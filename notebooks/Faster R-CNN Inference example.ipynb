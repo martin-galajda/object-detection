{
 "cells": [
  {
   "cell_type": "markdown",
   "metadata": {},
   "source": [
    "# Example for inference with Faster R-CNN model\n",
    "\n",
    "First, let's construct the model"
   ]
  },
  {
   "cell_type": "code",
   "execution_count": 1,
   "metadata": {},
   "outputs": [],
   "source": [
    "%matplotlib inline\n",
    "from models.faster_rcnn_inception_resnet_v2_oid_v4.object_detector import ObjectDetector as FasterRCNNDetector\n",
    "\n",
    "    \n",
    "faster_rcnn_detector = FasterRCNNDetector()"
   ]
  },
  {
   "cell_type": "markdown",
   "metadata": {},
   "source": [
    "Now, let's showcase inference on simple image containing horse"
   ]
  },
  {
   "cell_type": "code",
   "execution_count": null,
   "metadata": {},
   "outputs": [],
   "source": [
    "PATH_TO_TEST_FILE = '../resources/horse.jpeg'\n",
    "from models.utils.visualize import draw_bounding_boxes_on_pil_image\n",
    "from utils.image import load_pil_image_from_file\n",
    "import matplotlib.pyplot as plt\n",
    "\n",
    "\n",
    "def test():\n",
    "    orig_img_pil, img_np = load_pil_image_from_file(PATH_TO_TEST_FILE)\n",
    "    bounding_boxes = faster_rcnn_detector.infer_bounding_boxes_on_target_path(PATH_TO_TEST_FILE)\n",
    "    \n",
    "    draw_bounding_boxes_on_pil_image(bounding_boxes, orig_img_pil)\n",
    "    \n",
    "    plt.imshow(orig_img_pil)\n",
    "    \n",
    "test()"
   ]
  }
 ],
 "metadata": {
  "kernelspec": {
   "display_name": "Python 3",
   "language": "python",
   "name": "python3"
  },
  "language_info": {
   "codemirror_mode": {
    "name": "ipython",
    "version": 3
   },
   "file_extension": ".py",
   "mimetype": "text/x-python",
   "name": "python",
   "nbconvert_exporter": "python",
   "pygments_lexer": "ipython3",
   "version": "3.6.4"
  }
 },
 "nbformat": 4,
 "nbformat_minor": 2
}
