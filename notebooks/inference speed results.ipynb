{
 "cells": [
  {
   "cell_type": "code",
   "execution_count": null,
   "metadata": {},
   "outputs": [],
   "source": [
    "\n",
    "# earth_apollo17_3002_3000.jpg - (3000, 3002) - 3.783627624511719 s\n",
    "# horse_284_177.jpeg - (284, 177) - 3.6966145277023315 s\n",
    "# woman_blonde_512_512.jpg - (512, 512) - 3.710903482437134 s\n",
    "# Overal average inference speed: 3.7303818782170612s.\n",
    "    \n",
    "yolov3_gpu_v2_on_cpu_times = {\n",
    "    'earth_apollo17_3002_3000.jpg': 3.783627624511719,\n",
    "    'horse_284_177.jpeg': 3.6966145277023315,\n",
    "    'woman_blonde_512_512.jpg': 3.710903482437134,\n",
    "}\n",
    "\n",
    "\n",
    "# earth_apollo17_3002_3000.jpg - (3000, 3002) - 0.3424176812171936 s - 0 boxes detected.\n",
    "# horse_284_177.jpeg - (284, 177) - 0.2606033420562744 s - 1 boxes detected.\n",
    "# woman_blonde_512_512.jpg - (512, 512) - 0.26442890644073486 s - 3 boxes detected.\n",
    "# Overal average inference speed: 0.28914997657140096s.\n",
    "\n",
    "yolov3_gpu_v2_on_gpu_times = {\n",
    "    'earth_apollo17_3002_3000.jpg': 0.3424176812171936,\n",
    "    'horse_284_177.jpeg': 0.2606033420562744,\n",
    "    'woman_blonde_512_512.jpg': 0.26442890644073486,\n",
    "}\n",
    "\n",
    "# earth_apollo17_3002_3000.jpg - (3000, 3002) - 14.350386412143708 s\n",
    "# horse_284_177.jpeg - (284, 177) - 18.490979447364808 s\n",
    "# woman_blonde_512_512.jpg - (512, 512) - 14.17750740289688 s\n",
    "\n",
    "faster_rcnn_on_cpu_times = {\n",
    "    'earth_apollo17_3002_3000.jpg': 14.350386412143708,\n",
    "    'horse_284_177.jpeg': 18.490979447364808,\n",
    "    'woman_blonde_512_512.jpg': 14.17750740289688,\n",
    "}\n",
    "\n",
    "# earth_apollo17_3002_3000.jpg - (3000, 3002) - 1.2006240582466126 s - 1 boxes detected.\n",
    "# horse_284_177.jpeg - (284, 177) - 1.447853364944458 s - 1 boxes detected.\n",
    "# woman_blonde_512_512.jpg - (512, 512) - 1.1771916365623474 s - 3 boxes detected.\n",
    "# Overal average inference speed: 1.2752230199178058s.\n",
    "\n",
    "faster_rcnn_on_gpu_times = {\n",
    "    'earth_apollo17_3002_3000.jpg': 1.2006240582466126,\n",
    "    'horse_284_177.jpeg': 1.447853364944458,\n",
    "    'woman_blonde_512_512.jpg': 1.1771916365623474,\n",
    "}"
   ]
  }
 ],
 "metadata": {
  "kernelspec": {
   "display_name": "Python 3",
   "language": "python",
   "name": "python3"
  },
  "language_info": {
   "codemirror_mode": {
    "name": "ipython",
    "version": 3
   },
   "file_extension": ".py",
   "mimetype": "text/x-python",
   "name": "python",
   "nbconvert_exporter": "python",
   "pygments_lexer": "ipython3",
   "version": "3.6.4"
  }
 },
 "nbformat": 4,
 "nbformat_minor": 2
}
