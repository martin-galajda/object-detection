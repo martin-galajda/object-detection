{
  "nbformat": 4,
  "nbformat_minor": 0,
  "metadata": {
    "colab": {
      "name": "InferenceSpeedBenchmarks.ipynb",
      "version": "0.3.2",
      "provenance": [],
      "toc_visible": true,
      "include_colab_link": true
    },
    "kernelspec": {
      "name": "python3",
      "display_name": "Python 3"
    },
    "accelerator": "GPU"
  },
  "cells": [
    {
      "cell_type": "markdown",
      "metadata": {
        "id": "view-in-github",
        "colab_type": "text"
      },
      "source": [
        "<a href=\"https://colab.research.google.com/github/martinGalajdaSchool/object-detection/blob/master/notebooks/InferenceSpeedBenchmarks.ipynb\" target=\"_parent\"><img src=\"https://colab.research.google.com/assets/colab-badge.svg\" alt=\"Open In Colab\"/></a>"
      ]
    },
    {
      "cell_type": "code",
      "metadata": {
        "id": "1kxp7UU-Khr_",
        "colab_type": "code",
        "outputId": "814d592a-599b-48d6-9d50-4b3a6a4d4848",
        "colab": {
          "base_uri": "https://localhost:8080/",
          "height": 34
        }
      },
      "source": [
        "from google.colab import drive\n",
        "drive.mount('/content/drive')\n",
        "\n",
        "THESIS_RESOURCES_DIR = f'/content/drive/My Drive/object-detection-thesis'"
      ],
      "execution_count": 1,
      "outputs": [
        {
          "output_type": "stream",
          "text": [
            "Drive already mounted at /content/drive; to attempt to forcibly remount, call drive.mount(\"/content/drive\", force_remount=True).\n"
          ],
          "name": "stdout"
        }
      ]
    },
    {
      "cell_type": "markdown",
      "metadata": {
        "id": "vIFbsgr-jSjO",
        "colab_type": "text"
      },
      "source": [
        "#  First time setup - DO ONLY ONCE in you Google Drive "
      ]
    },
    {
      "cell_type": "markdown",
      "metadata": {
        "id": "buJWOI6ejZLu",
        "colab_type": "text"
      },
      "source": [
        "Let's change directory to the project folder and clone repo."
      ]
    },
    {
      "cell_type": "code",
      "metadata": {
        "id": "Bq4ji-AzKnSO",
        "colab_type": "code",
        "colab": {}
      },
      "source": [
        "! mkdir -p '/content/drive/My Drive/object-detection-thesis'\n",
        "%cd '/content/drive/My Drive/object-detection-thesis'\n",
        "! rm -r '/content/drive/My Drive/object-detection-thesis/object-detection'\n",
        "! git clone https://github.com/martinGalajdaSchool/object-detection.git\n",
        "\n",
        "! ls"
      ],
      "execution_count": 0,
      "outputs": []
    },
    {
      "cell_type": "markdown",
      "metadata": {
        "id": "wXBGZP36TEws",
        "colab_type": "text"
      },
      "source": [
        "First, let's compile protobufs (needed for FasterRCNN inference):"
      ]
    },
    {
      "cell_type": "code",
      "metadata": {
        "id": "8X03mm5FTE-V",
        "colab_type": "code",
        "outputId": "b67b7177-6dca-44dd-c42d-e9eba8957196",
        "colab": {
          "base_uri": "https://localhost:8080/",
          "height": 34
        }
      },
      "source": [
        "%cd '/content/drive/My Drive/object-detection-thesis/object-detection/models/faster_rcnn_inception_resnet_v2_oid_v4/protos'\n",
        "!  protoc -I=. --python_out=. ./string_int_label_map.proto"
      ],
      "execution_count": 3,
      "outputs": [
        {
          "output_type": "stream",
          "text": [
            "/content/drive/My Drive/object-detection-thesis/object-detection/models/faster_rcnn_inception_resnet_v2_oid_v4/protos\n"
          ],
          "name": "stdout"
        }
      ]
    },
    {
      "cell_type": "markdown",
      "metadata": {
        "id": "HzPe31uCS2q6",
        "colab_type": "text"
      },
      "source": [
        "# Setup"
      ]
    },
    {
      "cell_type": "markdown",
      "metadata": {
        "id": "5fBzLtMAje57",
        "colab_type": "text"
      },
      "source": [
        "Let's change directory to project repo root folder."
      ]
    },
    {
      "cell_type": "markdown",
      "metadata": {
        "id": "oj9oezh9jkiG",
        "colab_type": "text"
      },
      "source": [
        "Make sure we have latest sources..."
      ]
    },
    {
      "cell_type": "code",
      "metadata": {
        "id": "aiBPYuUmWMJE",
        "colab_type": "code",
        "outputId": "ac24736e-e419-4cd0-82bb-7402d3036866",
        "colab": {
          "base_uri": "https://localhost:8080/",
          "height": 255
        }
      },
      "source": [
        "%cd '/content/drive/My Drive/object-detection-thesis/object-detection'\n",
        "! pwd\n",
        "! git pull origin master"
      ],
      "execution_count": 2,
      "outputs": [
        {
          "output_type": "stream",
          "text": [
            "/content/drive/My Drive/object-detection-thesis/object-detection\n",
            "/content/drive/My Drive/object-detection-thesis/object-detection\n",
            "remote: Enumerating objects: 9, done.\u001b[K\n",
            "remote: Counting objects: 100% (9/9), done.\u001b[K\n",
            "remote: Compressing objects: 100% (1/1), done.\u001b[K\n",
            "remote: Total 5 (delta 4), reused 5 (delta 4), pack-reused 0\u001b[K\n",
            "Unpacking objects: 100% (5/5), done.\n",
            "From https://github.com/martinGalajdaSchool/object-detection\n",
            " * branch            master     -> FETCH_HEAD\n",
            "   aca5afc..b499843  master     -> origin/master\n",
            "Updating aca5afc..b499843\n",
            "Fast-forward\n",
            " models/yolov3/gpu_head_v2/inference.py | 2 \u001b[32m+\u001b[m\u001b[31m-\u001b[m\n",
            " 1 file changed, 1 insertion(+), 1 deletion(-)\n"
          ],
          "name": "stdout"
        }
      ]
    },
    {
      "cell_type": "markdown",
      "metadata": {
        "id": "NKtEWtBojq0O",
        "colab_type": "text"
      },
      "source": [
        "**Let's include and construct detectors**"
      ]
    },
    {
      "cell_type": "code",
      "metadata": {
        "id": "a5vpfRARqKQP",
        "colab_type": "code",
        "outputId": "35594124-458d-4abf-932e-1cbce2f61d75",
        "colab": {
          "base_uri": "https://localhost:8080/",
          "height": 71
        }
      },
      "source": [
        "from models.faster_rcnn_inception_resnet_v2_oid_v4.object_detector import ObjectDetector as FasterRCNNObjectDetector\n",
        "\n",
        "PATH_TO_FASTER_RCNN_RESOURCES = \"/content/drive/My Drive/THESIS_RESOURCES/faster_rcnn\"\n",
        "PATH_TO_FASTER_RCNN_INFERENCE_GRAPH = f'{PATH_TO_FASTER_RCNN_RESOURCES}/frozen_inference_graph.pb'\n",
        "PATH_TO_FASTER_RCNN_CLASSES = f'{PATH_TO_FASTER_RCNN_RESOURCES}/oid_v4_label_map.pbtxt'\n",
        "\n",
        "faster_rcnn_detector = FasterRCNNObjectDetector(\n",
        "    path_to_frozen_graph=PATH_TO_FASTER_RCNN_INFERENCE_GRAPH,\n",
        "    path_to_classes=PATH_TO_FASTER_RCNN_CLASSES,\n",
        "    use_gpu=True,\n",
        "    log_device_placement=False,\n",
        ")"
      ],
      "execution_count": 11,
      "outputs": [
        {
          "output_type": "stream",
          "text": [
            "WARNING:tensorflow:From /content/drive/My Drive/object-detection-thesis/object-detection/models/faster_rcnn_inception_resnet_v2_oid_v4/inference.py:46: The name tf.gfile.GFile is deprecated. Please use tf.io.gfile.GFile instead.\n",
            "\n"
          ],
          "name": "stdout"
        }
      ]
    },
    {
      "cell_type": "markdown",
      "metadata": {
        "id": "Pnq8YF2jTYKK",
        "colab_type": "text"
      },
      "source": [
        "# Construct YOLOv3 CPU\n",
        "- with inference head in numpy"
      ]
    },
    {
      "cell_type": "code",
      "metadata": {
        "id": "774qBhDDTXBc",
        "colab_type": "code",
        "outputId": "dc9ef4ff-bf36-4f3a-ec7d-04c9a469a3f9",
        "colab": {
          "base_uri": "https://localhost:8080/",
          "height": 71
        }
      },
      "source": [
        "from models.yolov3.cpu_head.object_detector import ObjectDetector as YOLOV3ObjectDetectorCPUHead\n",
        "\n",
        "PATH_TO_YOLOV3_RESOURCES = \"/content/drive/My Drive/THESIS_RESOURCES/yolov3\"\n",
        "PATH_TO_YOLOV3_MODEL = f'{PATH_TO_YOLOV3_RESOURCES}/model.h5'\n",
        "PATH_TO_YOLOV3_CLASSES = f'{PATH_TO_YOLOV3_RESOURCES}/openimages.names'\n",
        "\n",
        "yolov3_object_detector_cpu_head = YOLOV3ObjectDetectorCPUHead(\n",
        "    path_to_model=PATH_TO_YOLOV3_MODEL,\n",
        "    path_to_classes=PATH_TO_YOLOV3_CLASSES\n",
        ")"
      ],
      "execution_count": 5,
      "outputs": [
        {
          "output_type": "stream",
          "text": [
            "/usr/local/lib/python3.6/dist-packages/keras/engine/saving.py:310: UserWarning: No training configuration found in save file: the model was *not* compiled. Compile it manually.\n",
            "  warnings.warn('No training configuration found in save file: '\n"
          ],
          "name": "stderr"
        }
      ]
    },
    {
      "cell_type": "markdown",
      "metadata": {
        "id": "KlsGd1htTt0w",
        "colab_type": "text"
      },
      "source": [
        "# Construct YOLOv3 GPU v1\n",
        "- with inference head in TensorFlow, non-max supression in numpy\n",
        "\n"
      ]
    },
    {
      "cell_type": "code",
      "metadata": {
        "id": "1mYd-4swWbd_",
        "colab_type": "code",
        "outputId": "ef203e71-7c84-4877-f35b-d6978bc7d484",
        "colab": {
          "base_uri": "https://localhost:8080/",
          "height": 71
        }
      },
      "source": [
        "from models.yolov3.gpu_head_v1.object_detector import ObjectDetector as YOLOV3ObjectDetectorGPU\n",
        "\n",
        "PATH_TO_YOLOV3_RESOURCES = \"/content/drive/My Drive/THESIS_RESOURCES/yolov3\"\n",
        "PATH_TO_YOLOV3_MODEL = f'{PATH_TO_YOLOV3_RESOURCES}/model.h5'\n",
        "PATH_TO_YOLOV3_CLASSES = f'{PATH_TO_YOLOV3_RESOURCES}/openimages.names'\n",
        "\n",
        "yolov3_object_detector_gpu_v1 = YOLOV3ObjectDetectorGPU(\n",
        "    path_to_model=PATH_TO_YOLOV3_MODEL,\n",
        "    path_to_classes=PATH_TO_YOLOV3_CLASSES\n",
        ")"
      ],
      "execution_count": 4,
      "outputs": [
        {
          "output_type": "stream",
          "text": [
            "/usr/local/lib/python3.6/dist-packages/keras/engine/saving.py:310: UserWarning: No training configuration found in save file: the model was *not* compiled. Compile it manually.\n",
            "  warnings.warn('No training configuration found in save file: '\n"
          ],
          "name": "stderr"
        }
      ]
    },
    {
      "cell_type": "markdown",
      "metadata": {
        "id": "Mj5YoLNoT_s-",
        "colab_type": "text"
      },
      "source": [
        "# Construct YOLOv3 GPU v2\n",
        "- with inference head in TensorFlow, non-max supression in TensorFlow\n"
      ]
    },
    {
      "cell_type": "code",
      "metadata": {
        "id": "lXlPVCC5Y6oB",
        "colab_type": "code",
        "outputId": "c4d2f142-a4e3-41d1-cf4c-5adc2c1a20b7",
        "colab": {
          "base_uri": "https://localhost:8080/",
          "height": 394
        }
      },
      "source": [
        "from models.yolov3.gpu_head_v2.object_detector import ObjectDetector as YOLOV3ObjectDetectorGPUV2\n",
        "PATH_TO_YOLOV3_RESOURCES = \"/content/drive/My Drive/THESIS_RESOURCES/yolov3\"\n",
        "PATH_TO_YOLOV3_MODEL = f'{PATH_TO_YOLOV3_RESOURCES}/model.h5'\n",
        "PATH_TO_YOLOV3_CLASSES = f'{PATH_TO_YOLOV3_RESOURCES}/openimages.names'\n",
        "\n",
        "yolov3_object_detector_gpu_v2 = YOLOV3ObjectDetectorGPUV2(\n",
        "  path_to_model=PATH_TO_YOLOV3_MODEL,\n",
        "  path_to_classes=PATH_TO_YOLOV3_CLASSES,\n",
        "  log_device_placement=False,\n",
        "  verbose=False\n",
        ")"
      ],
      "execution_count": 3,
      "outputs": [
        {
          "output_type": "stream",
          "text": [
            "Using TensorFlow backend.\n"
          ],
          "name": "stderr"
        },
        {
          "output_type": "stream",
          "text": [
            "WARNING:tensorflow:From /content/drive/My Drive/object-detection-thesis/object-detection/models/yolov3/gpu_head_v2/object_detector.py:42: The name tf.ConfigProto is deprecated. Please use tf.compat.v1.ConfigProto instead.\n",
            "\n",
            "WARNING:tensorflow:From /content/drive/My Drive/object-detection-thesis/object-detection/models/yolov3/gpu_head_v2/object_detector.py:51: The name tf.Session is deprecated. Please use tf.compat.v1.Session instead.\n",
            "\n",
            "WARNING:tensorflow:From /usr/local/lib/python3.6/dist-packages/keras/backend/tensorflow_backend.py:190: The name tf.get_default_session is deprecated. Please use tf.compat.v1.get_default_session instead.\n",
            "\n",
            "WARNING:tensorflow:From /usr/local/lib/python3.6/dist-packages/keras/backend/tensorflow_backend.py:207: The name tf.global_variables is deprecated. Please use tf.compat.v1.global_variables instead.\n",
            "\n",
            "WARNING:tensorflow:From /usr/local/lib/python3.6/dist-packages/keras/backend/tensorflow_backend.py:541: The name tf.placeholder is deprecated. Please use tf.compat.v1.placeholder instead.\n",
            "\n",
            "WARNING:tensorflow:From /usr/local/lib/python3.6/dist-packages/keras/backend/tensorflow_backend.py:2041: The name tf.nn.fused_batch_norm is deprecated. Please use tf.compat.v1.nn.fused_batch_norm instead.\n",
            "\n",
            "WARNING:tensorflow:From /usr/local/lib/python3.6/dist-packages/keras/backend/tensorflow_backend.py:2241: The name tf.image.resize_bilinear is deprecated. Please use tf.compat.v1.image.resize_bilinear instead.\n",
            "\n"
          ],
          "name": "stdout"
        },
        {
          "output_type": "stream",
          "text": [
            "/usr/local/lib/python3.6/dist-packages/keras/engine/saving.py:310: UserWarning: No training configuration found in save file: the model was *not* compiled. Compile it manually.\n",
            "  warnings.warn('No training configuration found in save file: '\n"
          ],
          "name": "stderr"
        },
        {
          "output_type": "stream",
          "text": [
            "WARNING:tensorflow:From /usr/local/lib/python3.6/dist-packages/tensorflow/python/ops/array_ops.py:1354: add_dispatch_support.<locals>.wrapper (from tensorflow.python.ops.array_ops) is deprecated and will be removed in a future version.\n",
            "Instructions for updating:\n",
            "Use tf.where in 2.0, which has the same broadcast rule as np.where\n",
            "Took 37.84715414047241 seconds to construct network.\n"
          ],
          "name": "stdout"
        }
      ]
    },
    {
      "cell_type": "markdown",
      "metadata": {
        "id": "rhKaLCeZT8dd",
        "colab_type": "text"
      },
      "source": [
        "# Utility functions for benchmarking and plotting results"
      ]
    },
    {
      "cell_type": "markdown",
      "metadata": {
        "id": "p-qfNlgPjv7S",
        "colab_type": "text"
      },
      "source": [
        "Let's load testing image and create benchmarking function"
      ]
    },
    {
      "cell_type": "code",
      "metadata": {
        "id": "8btFROEyXxBp",
        "colab_type": "code",
        "colab": {}
      },
      "source": [
        "from utils.image import load_pil_image_from_file\n",
        "from typing import List, Any\n",
        "import numpy as np\n",
        "import time\n",
        "from models.data.base_object_detector import BaseObjectDetector\n",
        "\n",
        "\n",
        "PATH_TO_TEST_IMAGE = \"/content/drive/My Drive/object-detection-thesis/test-images/p_nriKHUVlZ9MkDEoYj8Z.jpg\"\n",
        "\n",
        "BASE_PATH_TO_BENCHMARK_IMAGES = '/content/drive/My Drive/object-detection-thesis/benchmark-images'\n",
        "BENCHMARK_IMAGE_NAMES = [\n",
        "    'earth_apollo17_3002_3000.jpg',\n",
        "    'horse_284_177.jpeg',\n",
        "    'woman_blonde_512_512.jpg'\n",
        "]\n",
        "BENCHMARK_IMAGE_FULL_NAMES = list(map(lambda filename: f'{BASE_PATH_TO_BENCHMARK_IMAGES}/{filename}', BENCHMARK_IMAGE_NAMES))\n",
        "\n",
        "\n",
        "def make_banchmark_detector(path_to_images: List[str], image_names: List[str]):\n",
        "  path_to_img_map = {}\n",
        "  for path_to_img in path_to_images:\n",
        "    _, img_np = load_pil_image_from_file(path_to_img)\n",
        "    \n",
        "    # fix grayscale image\n",
        "    if len(img_np.shape) == 2:\n",
        "      img_np = np.stack((img_np,) * 3, axis=-1)\n",
        "\n",
        "    path_to_img_map[path_to_img] = img_np\n",
        "    \n",
        "  \n",
        "  def _benchmark_detector(detector: BaseObjectDetector, num_of_iterations: int):\n",
        "    _ = detector.infer_object_detections_on_loaded_image(path_to_img_map[path_to_images[0]])\n",
        "\n",
        "    \n",
        "    avg_times = []\n",
        "    img_boxes_detected = {}\n",
        "\n",
        "    all_inference_times = {}\n",
        "    for idx, path_to_img in enumerate(path_to_images):\n",
        "      img_np = path_to_img_map[path_to_img]\n",
        "      img_shape = img_np.shape[:2]\n",
        "      print(f'Starting to benchmark on image: {image_names[idx]}.')\n",
        "\n",
        "      inference_times_for_image = []\n",
        "      start = time.time()\n",
        "      for i in range(num_of_iterations):\n",
        "        start_inference = time.time()\n",
        "        detected_bboxes, _, _ = detector.infer_object_detections_on_loaded_image(img_np)\n",
        "        end_inference = time.time()\n",
        "        inference_times_for_image.append(end_inference - start_inference)\n",
        "\n",
        "      end = time.time()\n",
        "      avg_time = (end - start) / num_of_iterations\n",
        "      \n",
        "      all_inference_times[image_names[idx]] = inference_times_for_image\n",
        "      img_boxes_detected[image_names[idx]] = len(detected_bboxes)\n",
        "\n",
        "      avg_times.append([path_to_img, image_names[idx], f'{img_shape[1]}, {img_shape[0]}', f'{avg_time} s',  avg_time, len(detected_bboxes)])\n",
        "      \n",
        "    return avg_times, all_inference_times, img_boxes_detected\n",
        "   \n",
        "  return _benchmark_detector\n",
        "\n",
        "def print_benchmark_results(detector: Any, avg_times_res: List[List[Any]]):\n",
        "  print(f'*** BENCHMARK RESULTS FOR {detector.name} ***')\n",
        "  \n",
        "  for avg_time_res in avg_times_res:\n",
        "    _, image_name, img_shape, avg_time_str, _, detected_bboxes = avg_time_res\n",
        "    print(f'{image_name} - ({img_shape}) - {avg_time_str} - {detected_bboxes} boxes detected.')\n",
        "\n",
        "  overal_avg_speed = sum(map(lambda res: res[4], avg_times_res)) / len(avg_times_res)\n",
        "  print(f'Overal average inference speed: {overal_avg_speed}s.')\n",
        "  \n",
        "  print(f'*** END ***')\n",
        "\n",
        "  \n",
        "benchmark_detector = make_banchmark_detector(BENCHMARK_IMAGE_FULL_NAMES, BENCHMARK_IMAGE_NAMES)"
      ],
      "execution_count": 0,
      "outputs": []
    },
    {
      "cell_type": "code",
      "metadata": {
        "id": "wMXefd9O-kZi",
        "colab_type": "code",
        "colab": {}
      },
      "source": [
        "import csv\n",
        "import seaborn as sns \n",
        "import pandas as pd\n",
        "import matplotlib.pyplot as plt\n",
        "\n",
        "ROOT_OUTPUT_PATH_BENCHMARK_RESULTS = \"/content/drive/My Drive/object-detection-thesis/inference-speed-benchmarks-results\"\n",
        "\n",
        "\n",
        "def write_csv_rows(filepath: str, rows: list, *, append_file: bool = False):\n",
        "  mode = 'w' if not append_file else 'a'\n",
        "  with open(filepath, mode) as csvfile:\n",
        "      writer = csv.writer(csvfile)\n",
        "      for row in rows:\n",
        "        writer.writerow(row)\n",
        "\n",
        "\n",
        "def plot_benchmark_results_and_write_to_csv_file(\n",
        "    *,\n",
        "    model_name,\n",
        "    results\n",
        "):\n",
        "  avg_times, all_inference_times_by_image_name, num_detected_bboxes_by_image_name = results\n",
        "  sns.set(rc={ 'figure.figsize': (15, 15 )}, )\n",
        "  sns.set(font_scale=1.7)\n",
        "\n",
        "  plot_data = []\n",
        "\n",
        "  OUTPUT_PATH_GRAPH = f\"/content/drive/My Drive/object-detection-thesis/plots/{model_name}.png\"\n",
        "\n",
        "  for image_name in all_inference_times_by_image_name.keys():\n",
        "    vals = all_inference_times_by_image_name[image_name]\n",
        "    boxes_detected = num_detected_bboxes_by_image_name[image_name]\n",
        "    plot_data += list(map(lambda inf_speed: [image_name, inf_speed, boxes_detected, model_name], vals))\n",
        "\n",
        "  columns = [\"image\", \"inference speed (s)\", \"boxes detected\", \"model name\"]\n",
        "  plot_dataframe = pd.DataFrame(plot_data, columns=[\"image\", \"inference speed (s)\", \"boxes detected\", \"model name\"])\n",
        "\n",
        "  fig, ax = plt.subplots()\n",
        "  sns_plot = sns.boxplot(x=\"image\", y=\"inference speed (s)\",  data=plot_dataframe, ax=ax)\n",
        "  sns_plot.set(ylim=(0, None))\n",
        "  sns_plot.set_title(model_name)\n",
        "\n",
        "  fig.savefig(OUTPUT_PATH_GRAPH)\n",
        "\n",
        "  csv_data = [columns]\n",
        "  csv_data += plot_data\n",
        "  write_csv_rows(f'{ROOT_OUTPUT_PATH_BENCHMARK_RESULTS}/results_{model_name}.csv', csv_data)"
      ],
      "execution_count": 0,
      "outputs": []
    },
    {
      "cell_type": "markdown",
      "metadata": {
        "id": "4g5Px-ZBhuyv",
        "colab_type": "text"
      },
      "source": [
        "# **Benchmarks for YOLOv3 (with non-max suppression in TensorFlow) on CPU**\n"
      ]
    },
    {
      "cell_type": "code",
      "metadata": {
        "id": "uUqnZbkRhR61",
        "colab_type": "code",
        "outputId": "2165871a-2078-4e7d-cfa5-ca5cdcf3b15d",
        "colab": {
          "base_uri": "https://localhost:8080/",
          "height": 170
        }
      },
      "source": [
        "yolov3_gpu_head_v2_on_cpu_results = benchmark_detector(yolov3_object_detector_gpu_v2, 10)\n",
        "print_benchmark_results(yolov3_object_detector_gpu_v2, yolov3_gpu_head_v2_on_cpu_results[0])"
      ],
      "execution_count": 0,
      "outputs": [
        {
          "output_type": "stream",
          "text": [
            "Starting to benchmark on image: earth_apollo17_3002_3000.jpg.\n",
            "Starting to benchmark on image: horse_284_177.jpeg.\n",
            "Starting to benchmark on image: woman_blonde_512_512.jpg.\n",
            "*** BENCHMARK RESULTS FOR YOLOv3 ***\n",
            "earth_apollo17_3002_3000.jpg - (3000, 3002) - 3.917899489402771 s - 0 boxes detected.\n",
            "horse_284_177.jpeg - (284, 177) - 3.8476473093032837 s - 1 boxes detected.\n",
            "woman_blonde_512_512.jpg - (512, 512) - 3.851556420326233 s - 3 boxes detected.\n",
            "Overal average inference speed: 3.872367739677429s.\n",
            "*** END ***\n"
          ],
          "name": "stdout"
        }
      ]
    },
    {
      "cell_type": "code",
      "metadata": {
        "id": "Ml2a9eAbM-Ig",
        "colab_type": "code",
        "outputId": "aa998259-7228-4daa-f8e6-0e9d31a92f1c",
        "colab": {
          "base_uri": "https://localhost:8080/",
          "height": 900
        }
      },
      "source": [
        "plot_benchmark_results_and_write_to_csv_file(\n",
        "    model_name=\"yolov3_gpu_head_v2_on_cpu\",\n",
        "    results=yolov3_gpu_head_v2_on_cpu_results\n",
        ")"
      ],
      "execution_count": 0,
      "outputs": [
        {
          "output_type": "display_data",
          "data": {
            "image/png": "[encoded data removed]",
            "text/plain": [
              "<Figure size 864x1080 with 1 Axes>"
            ]
          },
          "metadata": {
            "tags": []
          }
        }
      ]
    },
    {
      "cell_type": "markdown",
      "metadata": {
        "id": "jw9jydCjhxha",
        "colab_type": "text"
      },
      "source": [
        "# **Benchmarks for YOLOv3 (with non-max suppression in TensorFlow) on GPU**"
      ]
    },
    {
      "cell_type": "code",
      "metadata": {
        "id": "H_mPBnn9h1Nr",
        "colab_type": "code",
        "outputId": "8eab1751-ea0f-4527-d491-199a9b1129d0",
        "colab": {
          "base_uri": "https://localhost:8080/",
          "height": 170
        }
      },
      "source": [
        "yolov3_gpu_head_v2_on_gpu_results = benchmark_detector(yolov3_object_detector_gpu_v2, 100)\n",
        "print_benchmark_results(yolov3_object_detector_gpu_v2, yolov3_gpu_head_v2_on_gpu_results[0])"
      ],
      "execution_count": 9,
      "outputs": [
        {
          "output_type": "stream",
          "text": [
            "Starting to benchmark on image: earth_apollo17_3002_3000.jpg.\n",
            "Starting to benchmark on image: horse_284_177.jpeg.\n",
            "Starting to benchmark on image: woman_blonde_512_512.jpg.\n",
            "*** BENCHMARK RESULTS FOR YOLOv3 ***\n",
            "earth_apollo17_3002_3000.jpg - (3000, 3002) - 0.32878761053085326 s - 0 boxes detected.\n",
            "horse_284_177.jpeg - (284, 177) - 0.2536811876296997 s - 1 boxes detected.\n",
            "woman_blonde_512_512.jpg - (512, 512) - 0.26109469890594483 s - 3 boxes detected.\n",
            "Overal average inference speed: 0.28118783235549927s.\n",
            "*** END ***\n"
          ],
          "name": "stdout"
        }
      ]
    },
    {
      "cell_type": "code",
      "metadata": {
        "id": "8qMIByOUNC7c",
        "colab_type": "code",
        "outputId": "baf66e19-6228-4cbd-b867-552e8dfa79f4",
        "colab": {
          "base_uri": "https://localhost:8080/",
          "height": 920
        }
      },
      "source": [
        "plot_benchmark_results_and_write_to_csv_file(\n",
        "    model_name=\"yolov3_gpu_head_v2_on_gpu\",\n",
        "    results=yolov3_gpu_head_v2_on_gpu_results\n",
        ")"
      ],
      "execution_count": 10,
      "outputs": [
        {
          "output_type": "display_data",
          "data": {
            "image/png": "[encoded data removed]",
            "text/plain": [
              "<Figure size 1080x1080 with 1 Axes>"
            ]
          },
          "metadata": {
            "tags": []
          }
        }
      ]
    },
    {
      "cell_type": "markdown",
      "metadata": {
        "id": "5UsDYVdJJ6OD",
        "colab_type": "text"
      },
      "source": [
        "# Benchmarks for Faster R-CNN on GPU"
      ]
    },
    {
      "cell_type": "code",
      "metadata": {
        "id": "YjaW0dAyBfyc",
        "colab_type": "code",
        "outputId": "36552050-9285-4d87-9982-b996358d3111",
        "colab": {
          "base_uri": "https://localhost:8080/",
          "height": 170
        }
      },
      "source": [
        "faster_rcnn_results_on_gpu = benchmark_detector(faster_rcnn_detector, 100)\n",
        "print_benchmark_results(faster_rcnn_detector, faster_rcnn_results_on_gpu[0])"
      ],
      "execution_count": 12,
      "outputs": [
        {
          "output_type": "stream",
          "text": [
            "Starting to benchmark on image: earth_apollo17_3002_3000.jpg.\n",
            "Starting to benchmark on image: horse_284_177.jpeg.\n",
            "Starting to benchmark on image: woman_blonde_512_512.jpg.\n",
            "*** BENCHMARK RESULTS FOR FasterRCNN ***\n",
            "earth_apollo17_3002_3000.jpg - (3000, 3002) - 1.141931722164154 s - 1 boxes detected.\n",
            "horse_284_177.jpeg - (284, 177) - 1.38911408662796 s - 1 boxes detected.\n",
            "woman_blonde_512_512.jpg - (512, 512) - 1.1232755923271178 s - 3 boxes detected.\n",
            "Overal average inference speed: 1.2181071337064104s.\n",
            "*** END ***\n"
          ],
          "name": "stdout"
        }
      ]
    },
    {
      "cell_type": "code",
      "metadata": {
        "id": "QCRsVaCWB0ui",
        "colab_type": "code",
        "outputId": "0e8725db-015c-40ec-bf6a-88b180b64b4c",
        "colab": {
          "base_uri": "https://localhost:8080/",
          "height": 920
        }
      },
      "source": [
        "plot_benchmark_results_and_write_to_csv_file(\n",
        "    model_name=\"faster_rcnn_results_on_gpu\",\n",
        "    results=faster_rcnn_results_on_gpu\n",
        ")"
      ],
      "execution_count": 13,
      "outputs": [
        {
          "output_type": "display_data",
          "data": {
            "image/png": "[encoded data removed]",
            "text/plain": [
              "<Figure size 1080x1080 with 1 Axes>"
            ]
          },
          "metadata": {
            "tags": []
          }
        }
      ]
    },
    {
      "cell_type": "markdown",
      "metadata": {
        "id": "Anpe_f-ZBj3N",
        "colab_type": "text"
      },
      "source": [
        "# Benchmarks for Faster R-CNN on CPU"
      ]
    },
    {
      "cell_type": "code",
      "metadata": {
        "id": "wBvjXlaIBrtH",
        "colab_type": "code",
        "outputId": "007a95c2-7563-4540-ae57-480dd6d01ecf",
        "colab": {
          "base_uri": "https://localhost:8080/",
          "height": 170
        }
      },
      "source": [
        "faster_rcnn_results_on_cpu = benchmark_detector(faster_rcnn_detector, 10)\n",
        "print_benchmark_results(faster_rcnn_detector, faster_rcnn_results_on_cpu[0])"
      ],
      "execution_count": 0,
      "outputs": [
        {
          "output_type": "stream",
          "text": [
            "Starting to benchmark on image: earth_apollo17_3002_3000.jpg.\n",
            "Starting to benchmark on image: horse_284_177.jpeg.\n",
            "Starting to benchmark on image: woman_blonde_512_512.jpg.\n",
            "*** BENCHMARK RESULTS FOR FasterRCNN ***\n",
            "earth_apollo17_3002_3000.jpg - (3000, 3002) - 14.635195231437683 s - 1 boxes detected.\n",
            "horse_284_177.jpeg - (284, 177) - 18.88583550453186 s - 1 boxes detected.\n",
            "woman_blonde_512_512.jpg - (512, 512) - 14.612132573127747 s - 3 boxes detected.\n",
            "Overal average inference speed: 16.044387769699096s.\n",
            "*** END ***\n"
          ],
          "name": "stdout"
        }
      ]
    },
    {
      "cell_type": "code",
      "metadata": {
        "id": "O6D1A4u8PuWo",
        "colab_type": "code",
        "outputId": "bddd1e71-dd6d-49b7-cfed-67f6c22b2172",
        "colab": {
          "base_uri": "https://localhost:8080/",
          "height": 900
        }
      },
      "source": [
        "plot_benchmark_results_and_write_to_csv_file(\n",
        "    model_name=\"faster_rcnn_results_on_cpu\",\n",
        "    results=faster_rcnn_results_on_cpu\n",
        ")"
      ],
      "execution_count": 0,
      "outputs": [
        {
          "output_type": "display_data",
          "data": {
            "image/png": "[encoded data removed]",
            "text/plain": [
              "<Figure size 864x1080 with 1 Axes>"
            ]
          },
          "metadata": {
            "tags": []
          }
        }
      ]
    },
    {
      "cell_type": "markdown",
      "metadata": {
        "id": "QKATlLN9eS94",
        "colab_type": "text"
      },
      "source": [
        "# Benchmarks for YOLOv3 (with non-max suppression in numpy) on GPU"
      ]
    },
    {
      "cell_type": "code",
      "metadata": {
        "id": "qUTkHU1Xea1C",
        "colab_type": "code",
        "outputId": "1ca64b46-fc34-48fa-f6b0-967c4362f57c",
        "colab": {
          "base_uri": "https://localhost:8080/",
          "height": 1000
        }
      },
      "source": [
        "yolov3_gpu_head_v1_on_gpu_results = benchmark_detector(yolov3_object_detector_gpu_v1, 100)\n",
        "print_benchmark_results(yolov3_object_detector_gpu_v1, yolov3_gpu_head_v1_on_gpu_results[0])"
      ],
      "execution_count": 0,
      "outputs": [
        {
          "output_type": "stream",
          "text": [
            "Took 0.27657556533813477 seconds to construct network.\n",
            "Took 8.883634090423584 seconds to infer outputs in session.\n",
            "Starting to benchmark on image: earth_apollo17_3002_3000.jpg.\n",
            "Took 0.2734529972076416 seconds to construct network.\n",
            "Took 11.23812222480774 seconds to infer outputs in session.\n",
            "Took 0.2651398181915283 seconds to construct network.\n",
            "Took 11.825292825698853 seconds to infer outputs in session.\n",
            "Took 0.27567100524902344 seconds to construct network.\n",
            "Took 9.167628765106201 seconds to infer outputs in session.\n",
            "Took 0.2689204216003418 seconds to construct network.\n",
            "Took 11.152594089508057 seconds to infer outputs in session.\n",
            "Took 0.2693002223968506 seconds to construct network.\n",
            "Took 9.867393970489502 seconds to infer outputs in session.\n",
            "Took 0.2649970054626465 seconds to construct network.\n",
            "Took 9.44000792503357 seconds to infer outputs in session.\n",
            "Took 0.2720909118652344 seconds to construct network.\n",
            "Took 13.883984327316284 seconds to infer outputs in session.\n",
            "Took 0.2635490894317627 seconds to construct network.\n",
            "Took 12.178120136260986 seconds to infer outputs in session.\n",
            "Took 0.2697927951812744 seconds to construct network.\n",
            "Took 12.228454351425171 seconds to infer outputs in session.\n",
            "Took 0.2595803737640381 seconds to construct network.\n",
            "Took 12.023051738739014 seconds to infer outputs in session.\n",
            "Took 0.27245450019836426 seconds to construct network.\n",
            "Took 14.730300188064575 seconds to infer outputs in session.\n",
            "Took 0.27260732650756836 seconds to construct network.\n",
            "Took 12.867257833480835 seconds to infer outputs in session.\n",
            "Took 0.27199745178222656 seconds to construct network.\n",
            "Took 10.964019536972046 seconds to infer outputs in session.\n",
            "Took 0.2665722370147705 seconds to construct network.\n",
            "Took 11.397390842437744 seconds to infer outputs in session.\n",
            "Took 0.2676386833190918 seconds to construct network.\n",
            "Took 12.69486117362976 seconds to infer outputs in session.\n",
            "Took 0.2749974727630615 seconds to construct network.\n",
            "Took 12.151768922805786 seconds to infer outputs in session.\n",
            "Took 0.27182579040527344 seconds to construct network.\n",
            "Took 12.579578638076782 seconds to infer outputs in session.\n",
            "Took 0.26720619201660156 seconds to construct network.\n",
            "Took 12.834136009216309 seconds to infer outputs in session.\n",
            "Took 0.2672088146209717 seconds to construct network.\n",
            "Took 13.064045667648315 seconds to infer outputs in session.\n",
            "Took 0.2697279453277588 seconds to construct network.\n",
            "Took 12.423977136611938 seconds to infer outputs in session.\n",
            "Took 0.26682233810424805 seconds to construct network.\n",
            "Took 15.208101511001587 seconds to infer outputs in session.\n",
            "Took 0.2669970989227295 seconds to construct network.\n",
            "Took 12.41788125038147 seconds to infer outputs in session.\n",
            "Took 0.2784688472747803 seconds to construct network.\n",
            "Took 12.865702152252197 seconds to infer outputs in session.\n",
            "Took 0.27277541160583496 seconds to construct network.\n",
            "Took 15.348824977874756 seconds to infer outputs in session.\n",
            "Took 0.2618720531463623 seconds to construct network.\n",
            "Took 15.05367398262024 seconds to infer outputs in session.\n",
            "Took 0.2807779312133789 seconds to construct network.\n",
            "Took 15.913730382919312 seconds to infer outputs in session.\n",
            "Took 0.2646329402923584 seconds to construct network.\n",
            "Took 15.553192615509033 seconds to infer outputs in session.\n",
            "Took 0.27255940437316895 seconds to construct network.\n",
            "Took 14.547614574432373 seconds to infer outputs in session.\n",
            "Took 0.2721731662750244 seconds to construct network.\n",
            "Took 15.050557613372803 seconds to infer outputs in session.\n",
            "Took 0.2645735740661621 seconds to construct network.\n",
            "Took 12.567620038986206 seconds to infer outputs in session.\n",
            "Took 0.272871732711792 seconds to construct network.\n",
            "Took 14.249013900756836 seconds to infer outputs in session.\n",
            "Took 0.2732257843017578 seconds to construct network.\n",
            "Took 14.86485505104065 seconds to infer outputs in session.\n",
            "Took 0.26807713508605957 seconds to construct network.\n",
            "Took 14.210254430770874 seconds to infer outputs in session.\n",
            "Took 0.27963948249816895 seconds to construct network.\n",
            "Took 14.299729347229004 seconds to infer outputs in session.\n",
            "Took 0.2698185443878174 seconds to construct network.\n",
            "Took 16.232590913772583 seconds to infer outputs in session.\n",
            "Took 0.2686126232147217 seconds to construct network.\n",
            "Took 13.64525556564331 seconds to infer outputs in session.\n",
            "Took 0.27353596687316895 seconds to construct network.\n",
            "Took 14.598483800888062 seconds to infer outputs in session.\n",
            "Took 0.27043819427490234 seconds to construct network.\n",
            "Took 14.69401216506958 seconds to infer outputs in session.\n",
            "Took 0.2713654041290283 seconds to construct network.\n",
            "Took 14.925720691680908 seconds to infer outputs in session.\n",
            "Took 0.2717125415802002 seconds to construct network.\n",
            "Took 14.202000141143799 seconds to infer outputs in session.\n",
            "Took 1.4482288360595703 seconds to construct network.\n",
            "Took 16.423035383224487 seconds to infer outputs in session.\n",
            "Took 0.27613377571105957 seconds to construct network.\n",
            "Took 15.494211673736572 seconds to infer outputs in session.\n",
            "Took 0.2806391716003418 seconds to construct network.\n",
            "Took 15.62286376953125 seconds to infer outputs in session.\n",
            "Took 0.2682771682739258 seconds to construct network.\n",
            "Took 13.868757247924805 seconds to infer outputs in session.\n",
            "Took 0.26743149757385254 seconds to construct network.\n",
            "Took 16.524707078933716 seconds to infer outputs in session.\n",
            "Took 0.2698676586151123 seconds to construct network.\n",
            "Took 14.22559905052185 seconds to infer outputs in session.\n",
            "Took 0.2691347599029541 seconds to construct network.\n",
            "Took 17.627968788146973 seconds to infer outputs in session.\n",
            "Took 0.2908670902252197 seconds to construct network.\n",
            "Took 14.744776964187622 seconds to infer outputs in session.\n",
            "Took 0.2807750701904297 seconds to construct network.\n",
            "Took 15.933007955551147 seconds to infer outputs in session.\n",
            "Took 0.26589059829711914 seconds to construct network.\n",
            "Took 16.23254370689392 seconds to infer outputs in session.\n",
            "Took 0.26759982109069824 seconds to construct network.\n",
            "Took 17.15118980407715 seconds to infer outputs in session.\n",
            "Took 0.2854726314544678 seconds to construct network.\n",
            "Took 14.707296133041382 seconds to infer outputs in session.\n",
            "Took 0.26866960525512695 seconds to construct network.\n",
            "Took 14.78137755393982 seconds to infer outputs in session.\n",
            "Took 0.26496243476867676 seconds to construct network.\n",
            "Took 19.911112546920776 seconds to infer outputs in session.\n",
            "Took 0.26322460174560547 seconds to construct network.\n",
            "Took 15.399590253829956 seconds to infer outputs in session.\n",
            "Took 0.2786672115325928 seconds to construct network.\n",
            "Took 17.03648328781128 seconds to infer outputs in session.\n",
            "Took 0.2626049518585205 seconds to construct network.\n",
            "Took 13.871783971786499 seconds to infer outputs in session.\n",
            "Took 0.2662513256072998 seconds to construct network.\n",
            "Took 17.377058029174805 seconds to infer outputs in session.\n",
            "Took 0.26835036277770996 seconds to construct network.\n",
            "Took 15.905532598495483 seconds to infer outputs in session.\n",
            "Took 0.2794628143310547 seconds to construct network.\n",
            "Took 17.323837280273438 seconds to infer outputs in session.\n",
            "Took 0.2667829990386963 seconds to construct network.\n",
            "Took 16.697057008743286 seconds to infer outputs in session.\n",
            "Took 0.28121423721313477 seconds to construct network.\n",
            "Took 15.010411500930786 seconds to infer outputs in session.\n",
            "Took 0.26944661140441895 seconds to construct network.\n",
            "Took 16.25809121131897 seconds to infer outputs in session.\n",
            "Took 0.27623987197875977 seconds to construct network.\n",
            "Took 17.277340173721313 seconds to infer outputs in session.\n",
            "Took 0.2769026756286621 seconds to construct network.\n",
            "Took 17.612555980682373 seconds to infer outputs in session.\n",
            "Took 0.26866984367370605 seconds to construct network.\n",
            "Took 15.620694637298584 seconds to infer outputs in session.\n",
            "Took 0.26578760147094727 seconds to construct network.\n",
            "Took 17.666371822357178 seconds to infer outputs in session.\n",
            "Took 0.2804853916168213 seconds to construct network.\n",
            "Took 17.80777096748352 seconds to infer outputs in session.\n",
            "Took 0.26203417778015137 seconds to construct network.\n",
            "Took 15.152698993682861 seconds to infer outputs in session.\n",
            "Took 0.26436281204223633 seconds to construct network.\n",
            "Took 17.287914276123047 seconds to infer outputs in session.\n",
            "Took 0.26447629928588867 seconds to construct network.\n",
            "Took 18.310331106185913 seconds to infer outputs in session.\n",
            "Took 0.26732397079467773 seconds to construct network.\n",
            "Took 18.224751472473145 seconds to infer outputs in session.\n",
            "Took 0.26213979721069336 seconds to construct network.\n",
            "Took 15.544553756713867 seconds to infer outputs in session.\n",
            "Took 0.2746312618255615 seconds to construct network.\n",
            "Took 15.625876665115356 seconds to infer outputs in session.\n",
            "Took 0.26764774322509766 seconds to construct network.\n",
            "Took 19.01875948905945 seconds to infer outputs in session.\n",
            "Took 0.2780163288116455 seconds to construct network.\n",
            "Took 14.074206829071045 seconds to infer outputs in session.\n",
            "Took 0.2726778984069824 seconds to construct network.\n",
            "Took 17.527093648910522 seconds to infer outputs in session.\n",
            "Took 0.27846288681030273 seconds to construct network.\n",
            "Took 15.101428985595703 seconds to infer outputs in session.\n",
            "Took 0.2785205841064453 seconds to construct network.\n",
            "Took 19.106943368911743 seconds to infer outputs in session.\n",
            "Took 0.27157139778137207 seconds to construct network.\n",
            "Took 19.53774333000183 seconds to infer outputs in session.\n",
            "Took 0.2663991451263428 seconds to construct network.\n",
            "Took 17.61841058731079 seconds to infer outputs in session.\n",
            "Took 0.2646033763885498 seconds to construct network.\n",
            "Took 17.992497205734253 seconds to infer outputs in session.\n",
            "Took 0.2704482078552246 seconds to construct network.\n",
            "Took 15.929083824157715 seconds to infer outputs in session.\n",
            "Took 0.27414560317993164 seconds to construct network.\n",
            "Took 18.7470383644104 seconds to infer outputs in session.\n",
            "Took 0.2737252712249756 seconds to construct network.\n",
            "Took 18.951587677001953 seconds to infer outputs in session.\n",
            "Took 0.2740590572357178 seconds to construct network.\n",
            "Took 17.722090244293213 seconds to infer outputs in session.\n",
            "Took 0.272383451461792 seconds to construct network.\n",
            "Took 18.438374996185303 seconds to infer outputs in session.\n",
            "Took 0.26581239700317383 seconds to construct network.\n",
            "Took 21.4755437374115 seconds to infer outputs in session.\n",
            "Took 0.26540589332580566 seconds to construct network.\n",
            "Took 17.10786747932434 seconds to infer outputs in session.\n",
            "Took 0.2703249454498291 seconds to construct network.\n",
            "Took 22.10633397102356 seconds to infer outputs in session.\n",
            "Took 0.2908625602722168 seconds to construct network.\n",
            "Took 18.686992645263672 seconds to infer outputs in session.\n",
            "Took 0.266129732131958 seconds to construct network.\n",
            "Took 20.834362268447876 seconds to infer outputs in session.\n",
            "Took 0.27321577072143555 seconds to construct network.\n",
            "Took 18.606487035751343 seconds to infer outputs in session.\n",
            "Took 0.2762637138366699 seconds to construct network.\n",
            "Took 16.323265314102173 seconds to infer outputs in session.\n",
            "Took 0.2805507183074951 seconds to construct network.\n",
            "Took 17.244317770004272 seconds to infer outputs in session.\n",
            "Took 0.27585363388061523 seconds to construct network.\n",
            "Took 17.013253211975098 seconds to infer outputs in session.\n",
            "Took 0.32062530517578125 seconds to construct network.\n",
            "Took 19.30137348175049 seconds to infer outputs in session.\n",
            "Took 0.2705721855163574 seconds to construct network.\n",
            "Took 20.637563943862915 seconds to infer outputs in session.\n",
            "Took 0.2716691493988037 seconds to construct network.\n",
            "Took 17.07041049003601 seconds to infer outputs in session.\n",
            "Took 0.27437257766723633 seconds to construct network.\n",
            "Took 23.635099172592163 seconds to infer outputs in session.\n",
            "Starting to benchmark on image: horse_284_177.jpeg.\n",
            "Took 0.2761654853820801 seconds to construct network.\n",
            "Took 19.787734746932983 seconds to infer outputs in session.\n",
            "Took 0.27758359909057617 seconds to construct network.\n",
            "Took 21.093554496765137 seconds to infer outputs in session.\n",
            "Took 0.2792344093322754 seconds to construct network.\n",
            "Took 18.637768507003784 seconds to infer outputs in session.\n",
            "Took 0.2847251892089844 seconds to construct network.\n",
            "Took 21.394187688827515 seconds to infer outputs in session.\n",
            "Took 0.2643144130706787 seconds to construct network.\n",
            "Took 23.03782320022583 seconds to infer outputs in session.\n",
            "Took 0.269012451171875 seconds to construct network.\n",
            "Took 23.25600242614746 seconds to infer outputs in session.\n",
            "Took 0.2773864269256592 seconds to construct network.\n",
            "Took 18.95097804069519 seconds to infer outputs in session.\n",
            "Took 0.2813687324523926 seconds to construct network.\n",
            "Took 17.530194997787476 seconds to infer outputs in session.\n",
            "Took 0.28159189224243164 seconds to construct network.\n",
            "Took 20.885534524917603 seconds to infer outputs in session.\n",
            "Took 0.2863590717315674 seconds to construct network.\n",
            "Took 22.663402557373047 seconds to infer outputs in session.\n",
            "Took 0.2794835567474365 seconds to construct network.\n",
            "Took 26.626124620437622 seconds to infer outputs in session.\n",
            "Took 0.2763333320617676 seconds to construct network.\n",
            "Took 20.660998582839966 seconds to infer outputs in session.\n",
            "Took 0.27611374855041504 seconds to construct network.\n",
            "Took 21.30142593383789 seconds to infer outputs in session.\n",
            "Took 0.26959824562072754 seconds to construct network.\n",
            "Took 21.085373401641846 seconds to infer outputs in session.\n",
            "Took 0.2753322124481201 seconds to construct network.\n",
            "Took 22.390426874160767 seconds to infer outputs in session.\n",
            "Took 0.2882680892944336 seconds to construct network.\n",
            "Took 22.37169122695923 seconds to infer outputs in session.\n",
            "Took 0.2761082649230957 seconds to construct network.\n",
            "Took 18.895122289657593 seconds to infer outputs in session.\n",
            "Took 0.2792332172393799 seconds to construct network.\n",
            "Took 22.030516862869263 seconds to infer outputs in session.\n",
            "Took 0.27852296829223633 seconds to construct network.\n",
            "Took 18.59301257133484 seconds to infer outputs in session.\n",
            "Took 0.28403759002685547 seconds to construct network.\n",
            "Took 23.358235120773315 seconds to infer outputs in session.\n",
            "Took 0.2869586944580078 seconds to construct network.\n",
            "Took 21.317480325698853 seconds to infer outputs in session.\n",
            "Took 1.743488073348999 seconds to construct network.\n",
            "Took 25.15355372428894 seconds to infer outputs in session.\n",
            "Took 0.2807018756866455 seconds to construct network.\n",
            "Took 20.685714960098267 seconds to infer outputs in session.\n",
            "Took 0.28467440605163574 seconds to construct network.\n",
            "Took 17.798521518707275 seconds to infer outputs in session.\n",
            "Took 0.2681128978729248 seconds to construct network.\n",
            "Took 19.733206510543823 seconds to infer outputs in session.\n",
            "Took 0.2773275375366211 seconds to construct network.\n",
            "Took 22.55245804786682 seconds to infer outputs in session.\n",
            "Took 0.2838399410247803 seconds to construct network.\n",
            "Took 20.02991795539856 seconds to infer outputs in session.\n",
            "Took 0.28374195098876953 seconds to construct network.\n",
            "Took 22.225358247756958 seconds to infer outputs in session.\n",
            "Took 0.2860536575317383 seconds to construct network.\n",
            "Took 24.141045570373535 seconds to infer outputs in session.\n",
            "Took 0.275862455368042 seconds to construct network.\n",
            "Took 20.526605129241943 seconds to infer outputs in session.\n",
            "Took 0.28394436836242676 seconds to construct network.\n",
            "Took 22.289486169815063 seconds to infer outputs in session.\n",
            "Took 0.27899932861328125 seconds to construct network.\n",
            "Took 25.143453359603882 seconds to infer outputs in session.\n",
            "Took 0.2926604747772217 seconds to construct network.\n",
            "Took 22.639299631118774 seconds to infer outputs in session.\n",
            "Took 0.2829306125640869 seconds to construct network.\n",
            "Took 23.895886659622192 seconds to infer outputs in session.\n",
            "Took 0.28198790550231934 seconds to construct network.\n",
            "Took 19.827038764953613 seconds to infer outputs in session.\n",
            "Took 0.27713799476623535 seconds to construct network.\n",
            "Took 23.259441137313843 seconds to infer outputs in session.\n",
            "Took 0.2875051498413086 seconds to construct network.\n",
            "Took 22.075663328170776 seconds to infer outputs in session.\n",
            "Took 0.27418971061706543 seconds to construct network.\n",
            "Took 22.66119623184204 seconds to infer outputs in session.\n",
            "Took 0.2804691791534424 seconds to construct network.\n",
            "Took 23.679625034332275 seconds to infer outputs in session.\n",
            "Took 0.28652405738830566 seconds to construct network.\n",
            "Took 23.74638557434082 seconds to infer outputs in session.\n",
            "Took 0.28241682052612305 seconds to construct network.\n",
            "Took 22.402880668640137 seconds to infer outputs in session.\n",
            "Took 0.2812361717224121 seconds to construct network.\n",
            "Took 27.10970950126648 seconds to infer outputs in session.\n",
            "Took 0.28201913833618164 seconds to construct network.\n",
            "Took 24.651399850845337 seconds to infer outputs in session.\n",
            "Took 0.27452778816223145 seconds to construct network.\n",
            "Took 22.375887870788574 seconds to infer outputs in session.\n",
            "Took 0.28557372093200684 seconds to construct network.\n",
            "Took 22.834633588790894 seconds to infer outputs in session.\n",
            "Took 0.28775978088378906 seconds to construct network.\n",
            "Took 25.777159690856934 seconds to infer outputs in session.\n",
            "Took 0.2851448059082031 seconds to construct network.\n",
            "Took 26.939318895339966 seconds to infer outputs in session.\n",
            "Took 0.28060030937194824 seconds to construct network.\n",
            "Took 25.440619468688965 seconds to infer outputs in session.\n",
            "Took 0.28222227096557617 seconds to construct network.\n",
            "Took 26.343042850494385 seconds to infer outputs in session.\n",
            "Took 0.2853970527648926 seconds to construct network.\n",
            "Took 25.646790266036987 seconds to infer outputs in session.\n",
            "Took 0.29259276390075684 seconds to construct network.\n",
            "Took 22.567052602767944 seconds to infer outputs in session.\n",
            "Took 0.2760965824127197 seconds to construct network.\n",
            "Took 26.404747486114502 seconds to infer outputs in session.\n",
            "Took 0.27913403511047363 seconds to construct network.\n",
            "Took 24.36353611946106 seconds to infer outputs in session.\n",
            "Took 0.2785007953643799 seconds to construct network.\n",
            "Took 26.08849573135376 seconds to infer outputs in session.\n",
            "Took 0.27228641510009766 seconds to construct network.\n",
            "Took 25.49316167831421 seconds to infer outputs in session.\n",
            "Took 0.27046918869018555 seconds to construct network.\n",
            "Took 25.845906972885132 seconds to infer outputs in session.\n",
            "Took 0.27964162826538086 seconds to construct network.\n",
            "Took 20.766303777694702 seconds to infer outputs in session.\n",
            "Took 0.2889246940612793 seconds to construct network.\n",
            "Took 24.779868602752686 seconds to infer outputs in session.\n",
            "Took 0.27662014961242676 seconds to construct network.\n",
            "Took 26.80336880683899 seconds to infer outputs in session.\n",
            "Took 0.2820401191711426 seconds to construct network.\n",
            "Took 23.941811561584473 seconds to infer outputs in session.\n",
            "Took 0.28513598442077637 seconds to construct network.\n",
            "Took 26.35485816001892 seconds to infer outputs in session.\n",
            "Took 0.2809572219848633 seconds to construct network.\n",
            "Took 25.195485591888428 seconds to infer outputs in session.\n",
            "Took 0.2757079601287842 seconds to construct network.\n",
            "Took 26.15162682533264 seconds to infer outputs in session.\n",
            "Took 0.2871246337890625 seconds to construct network.\n",
            "Took 26.46465253829956 seconds to infer outputs in session.\n",
            "Took 0.2831306457519531 seconds to construct network.\n",
            "Took 19.75795888900757 seconds to infer outputs in session.\n",
            "Took 0.26960253715515137 seconds to construct network.\n",
            "Took 25.167115449905396 seconds to infer outputs in session.\n",
            "Took 0.2760951519012451 seconds to construct network.\n",
            "Took 25.16672158241272 seconds to infer outputs in session.\n",
            "Took 0.2841215133666992 seconds to construct network.\n",
            "Took 24.902840852737427 seconds to infer outputs in session.\n",
            "Took 0.27727699279785156 seconds to construct network.\n",
            "Took 26.19988250732422 seconds to infer outputs in session.\n",
            "Took 0.27311229705810547 seconds to construct network.\n",
            "Took 24.364362716674805 seconds to infer outputs in session.\n",
            "Took 0.2884209156036377 seconds to construct network.\n",
            "Took 27.650542736053467 seconds to infer outputs in session.\n",
            "Took 0.27028775215148926 seconds to construct network.\n",
            "Took 25.82478642463684 seconds to infer outputs in session.\n",
            "Took 0.2774968147277832 seconds to construct network.\n",
            "Took 24.508440256118774 seconds to infer outputs in session.\n",
            "Took 0.2793571949005127 seconds to construct network.\n",
            "Took 26.277384757995605 seconds to infer outputs in session.\n",
            "Took 0.2874917984008789 seconds to construct network.\n",
            "Took 25.738610982894897 seconds to infer outputs in session.\n",
            "Took 0.279064416885376 seconds to construct network.\n",
            "Took 28.667465925216675 seconds to infer outputs in session.\n",
            "Took 0.28315186500549316 seconds to construct network.\n",
            "Took 24.874512195587158 seconds to infer outputs in session.\n",
            "Took 0.28765177726745605 seconds to construct network.\n",
            "Took 27.78804302215576 seconds to infer outputs in session.\n",
            "Took 0.2809107303619385 seconds to construct network.\n",
            "Took 24.41582989692688 seconds to infer outputs in session.\n",
            "Took 0.2842528820037842 seconds to construct network.\n",
            "Took 23.205729722976685 seconds to infer outputs in session.\n",
            "Took 0.27825355529785156 seconds to construct network.\n",
            "Took 27.08203649520874 seconds to infer outputs in session.\n",
            "Took 0.28287434577941895 seconds to construct network.\n",
            "Took 27.835222482681274 seconds to infer outputs in session.\n",
            "Took 0.2682919502258301 seconds to construct network.\n",
            "Took 29.36493945121765 seconds to infer outputs in session.\n",
            "Took 0.2771122455596924 seconds to construct network.\n",
            "Took 27.096823930740356 seconds to infer outputs in session.\n",
            "Took 0.29098939895629883 seconds to construct network.\n",
            "Took 22.365368366241455 seconds to infer outputs in session.\n",
            "Took 0.27829408645629883 seconds to construct network.\n",
            "Took 27.12567377090454 seconds to infer outputs in session.\n",
            "Took 0.28534436225891113 seconds to construct network.\n",
            "Took 24.543579578399658 seconds to infer outputs in session.\n",
            "Took 0.28152894973754883 seconds to construct network.\n",
            "Took 23.59365725517273 seconds to infer outputs in session.\n",
            "Took 0.2724144458770752 seconds to construct network.\n",
            "Took 27.95106840133667 seconds to infer outputs in session.\n",
            "Took 0.28154754638671875 seconds to construct network.\n",
            "Took 25.76884698867798 seconds to infer outputs in session.\n",
            "Took 0.2886345386505127 seconds to construct network.\n",
            "Took 25.262798070907593 seconds to infer outputs in session.\n",
            "Took 0.2767293453216553 seconds to construct network.\n",
            "Took 25.400470495224 seconds to infer outputs in session.\n",
            "Took 0.29076313972473145 seconds to construct network.\n",
            "Took 25.906600952148438 seconds to infer outputs in session.\n",
            "Took 0.28884387016296387 seconds to construct network.\n",
            "Took 27.130399227142334 seconds to infer outputs in session.\n",
            "Took 0.2775740623474121 seconds to construct network.\n",
            "Took 22.39485740661621 seconds to infer outputs in session.\n",
            "Took 0.2865750789642334 seconds to construct network.\n",
            "Took 27.034252882003784 seconds to infer outputs in session.\n",
            "Took 0.2852311134338379 seconds to construct network.\n",
            "Took 31.269943952560425 seconds to infer outputs in session.\n",
            "Took 0.289217472076416 seconds to construct network.\n",
            "Took 30.755045652389526 seconds to infer outputs in session.\n",
            "Took 0.29094409942626953 seconds to construct network.\n",
            "Took 27.387704133987427 seconds to infer outputs in session.\n",
            "Took 0.2738645076751709 seconds to construct network.\n",
            "Took 26.505829334259033 seconds to infer outputs in session.\n",
            "Starting to benchmark on image: woman_blonde_512_512.jpg.\n",
            "Took 0.2788431644439697 seconds to construct network.\n",
            "Took 28.84559965133667 seconds to infer outputs in session.\n",
            "Took 0.27798962593078613 seconds to construct network.\n",
            "Took 28.457775831222534 seconds to infer outputs in session.\n",
            "Took 0.2809576988220215 seconds to construct network.\n",
            "Took 27.152626276016235 seconds to infer outputs in session.\n",
            "Took 0.2762753963470459 seconds to construct network.\n",
            "Took 26.806935787200928 seconds to infer outputs in session.\n",
            "Took 0.2881131172180176 seconds to construct network.\n",
            "Took 29.198776721954346 seconds to infer outputs in session.\n",
            "Took 0.2842123508453369 seconds to construct network.\n",
            "Took 29.410369396209717 seconds to infer outputs in session.\n",
            "Took 0.28055906295776367 seconds to construct network.\n",
            "Took 26.565062999725342 seconds to infer outputs in session.\n",
            "Took 0.27726197242736816 seconds to construct network.\n",
            "Took 27.658278703689575 seconds to infer outputs in session.\n",
            "Took 0.2756767272949219 seconds to construct network.\n",
            "Took 30.299715757369995 seconds to infer outputs in session.\n",
            "Took 0.28058695793151855 seconds to construct network.\n",
            "Took 22.602627515792847 seconds to infer outputs in session.\n",
            "Took 0.27747559547424316 seconds to construct network.\n",
            "Took 26.78410029411316 seconds to infer outputs in session.\n",
            "Took 0.2781708240509033 seconds to construct network.\n",
            "Took 31.03776979446411 seconds to infer outputs in session.\n",
            "Took 0.27786850929260254 seconds to construct network.\n",
            "Took 30.668957710266113 seconds to infer outputs in session.\n",
            "Took 0.2794520854949951 seconds to construct network.\n",
            "Took 31.64352297782898 seconds to infer outputs in session.\n",
            "Took 0.2742795944213867 seconds to construct network.\n",
            "Took 31.646819353103638 seconds to infer outputs in session.\n",
            "Took 0.28253960609436035 seconds to construct network.\n",
            "Took 28.730218410491943 seconds to infer outputs in session.\n",
            "Took 0.2726263999938965 seconds to construct network.\n",
            "Took 28.26482582092285 seconds to infer outputs in session.\n",
            "Took 0.285203218460083 seconds to construct network.\n",
            "Took 32.928877115249634 seconds to infer outputs in session.\n",
            "Took 0.2729513645172119 seconds to construct network.\n",
            "Took 32.824333906173706 seconds to infer outputs in session.\n",
            "Took 0.2781081199645996 seconds to construct network.\n",
            "Took 34.685368061065674 seconds to infer outputs in session.\n",
            "Took 0.29050469398498535 seconds to construct network.\n",
            "Took 30.719439268112183 seconds to infer outputs in session.\n",
            "Took 0.27254247665405273 seconds to construct network.\n",
            "Took 29.04742407798767 seconds to infer outputs in session.\n",
            "Took 2.08508563041687 seconds to construct network.\n",
            "Took 29.71419072151184 seconds to infer outputs in session.\n",
            "Took 0.28293275833129883 seconds to construct network.\n",
            "Took 25.849372148513794 seconds to infer outputs in session.\n",
            "Took 0.27611804008483887 seconds to construct network.\n",
            "Took 29.836678504943848 seconds to infer outputs in session.\n",
            "Took 0.27260470390319824 seconds to construct network.\n",
            "Took 25.877723455429077 seconds to infer outputs in session.\n",
            "Took 0.2767298221588135 seconds to construct network.\n",
            "Took 28.461779594421387 seconds to infer outputs in session.\n",
            "Took 0.28377318382263184 seconds to construct network.\n",
            "Took 34.00604462623596 seconds to infer outputs in session.\n",
            "Took 0.2838306427001953 seconds to construct network.\n",
            "Took 28.061471462249756 seconds to infer outputs in session.\n",
            "Took 0.27602696418762207 seconds to construct network.\n",
            "Took 31.926694631576538 seconds to infer outputs in session.\n",
            "Took 0.27329015731811523 seconds to construct network.\n",
            "Took 29.24043297767639 seconds to infer outputs in session.\n",
            "Took 0.27213430404663086 seconds to construct network.\n",
            "Took 24.273794889450073 seconds to infer outputs in session.\n",
            "Took 0.275299072265625 seconds to construct network.\n",
            "Took 26.431915998458862 seconds to infer outputs in session.\n",
            "Took 0.2802698612213135 seconds to construct network.\n",
            "Took 28.954893589019775 seconds to infer outputs in session.\n",
            "Took 0.2726304531097412 seconds to construct network.\n",
            "Took 31.96867561340332 seconds to infer outputs in session.\n",
            "Took 0.27250194549560547 seconds to construct network.\n",
            "Took 28.29053783416748 seconds to infer outputs in session.\n",
            "Took 0.2739121913909912 seconds to construct network.\n",
            "Took 29.543465852737427 seconds to infer outputs in session.\n",
            "Took 0.2794840335845947 seconds to construct network.\n",
            "Took 31.9918475151062 seconds to infer outputs in session.\n",
            "Took 0.27658748626708984 seconds to construct network.\n",
            "Took 33.29158282279968 seconds to infer outputs in session.\n",
            "Took 0.26630258560180664 seconds to construct network.\n",
            "Took 27.646300077438354 seconds to infer outputs in session.\n",
            "Took 0.2652289867401123 seconds to construct network.\n",
            "Took 32.595420837402344 seconds to infer outputs in session.\n",
            "Took 0.27193641662597656 seconds to construct network.\n",
            "Took 33.15701246261597 seconds to infer outputs in session.\n",
            "Took 0.2851712703704834 seconds to construct network.\n",
            "Took 31.429372310638428 seconds to infer outputs in session.\n",
            "Took 0.265331506729126 seconds to construct network.\n",
            "Took 33.5681095123291 seconds to infer outputs in session.\n",
            "Took 0.28331589698791504 seconds to construct network.\n",
            "Took 25.024295806884766 seconds to infer outputs in session.\n",
            "Took 0.27392029762268066 seconds to construct network.\n",
            "Took 31.232277870178223 seconds to infer outputs in session.\n",
            "Took 0.26679515838623047 seconds to construct network.\n",
            "Took 34.07324934005737 seconds to infer outputs in session.\n",
            "Took 0.2861940860748291 seconds to construct network.\n",
            "Took 24.496943473815918 seconds to infer outputs in session.\n",
            "Took 0.27047109603881836 seconds to construct network.\n",
            "Took 29.430222034454346 seconds to infer outputs in session.\n",
            "Took 0.2762339115142822 seconds to construct network.\n",
            "Took 34.933255672454834 seconds to infer outputs in session.\n",
            "Took 0.2770421504974365 seconds to construct network.\n",
            "Took 26.66091775894165 seconds to infer outputs in session.\n",
            "Took 0.27059173583984375 seconds to construct network.\n",
            "Took 31.190630197525024 seconds to infer outputs in session.\n",
            "Took 0.2824983596801758 seconds to construct network.\n",
            "Took 31.613922595977783 seconds to infer outputs in session.\n",
            "Took 0.27498364448547363 seconds to construct network.\n",
            "Took 31.50517511367798 seconds to infer outputs in session.\n",
            "Took 0.29003000259399414 seconds to construct network.\n",
            "Took 35.99765133857727 seconds to infer outputs in session.\n",
            "Took 0.2713809013366699 seconds to construct network.\n",
            "Took 33.580374240875244 seconds to infer outputs in session.\n",
            "Took 0.28098416328430176 seconds to construct network.\n",
            "Took 33.3050856590271 seconds to infer outputs in session.\n",
            "Took 0.301224946975708 seconds to construct network.\n",
            "Took 31.258821487426758 seconds to infer outputs in session.\n",
            "Took 0.2827270030975342 seconds to construct network.\n",
            "Took 31.518240451812744 seconds to infer outputs in session.\n",
            "Took 0.2823929786682129 seconds to construct network.\n",
            "Took 30.77625823020935 seconds to infer outputs in session.\n",
            "Took 0.275280237197876 seconds to construct network.\n",
            "Took 27.023894548416138 seconds to infer outputs in session.\n",
            "Took 0.27661991119384766 seconds to construct network.\n",
            "Took 35.131961822509766 seconds to infer outputs in session.\n",
            "Took 0.2774200439453125 seconds to construct network.\n",
            "Took 34.61919665336609 seconds to infer outputs in session.\n",
            "Took 0.28745388984680176 seconds to construct network.\n",
            "Took 28.09732151031494 seconds to infer outputs in session.\n",
            "Took 0.2854166030883789 seconds to construct network.\n",
            "Took 32.99473237991333 seconds to infer outputs in session.\n",
            "Took 0.27979254722595215 seconds to construct network.\n",
            "Took 30.02815270423889 seconds to infer outputs in session.\n",
            "Took 0.27251124382019043 seconds to construct network.\n",
            "Took 31.263530254364014 seconds to infer outputs in session.\n",
            "Took 0.2908153533935547 seconds to construct network.\n",
            "Took 30.837608098983765 seconds to infer outputs in session.\n",
            "Took 0.29210948944091797 seconds to construct network.\n",
            "Took 34.73591947555542 seconds to infer outputs in session.\n",
            "Took 0.26945972442626953 seconds to construct network.\n",
            "Took 37.17650651931763 seconds to infer outputs in session.\n",
            "Took 0.2747609615325928 seconds to construct network.\n",
            "Took 27.595492601394653 seconds to infer outputs in session.\n",
            "Took 0.2686333656311035 seconds to construct network.\n",
            "Took 33.66304111480713 seconds to infer outputs in session.\n",
            "Took 0.2926502227783203 seconds to construct network.\n",
            "Took 38.3656542301178 seconds to infer outputs in session.\n",
            "Took 0.2758216857910156 seconds to construct network.\n",
            "Took 32.50710153579712 seconds to infer outputs in session.\n",
            "Took 0.2740437984466553 seconds to construct network.\n",
            "Took 30.03862476348877 seconds to infer outputs in session.\n",
            "Took 0.277773380279541 seconds to construct network.\n",
            "Took 37.173762798309326 seconds to infer outputs in session.\n",
            "Took 0.2917971611022949 seconds to construct network.\n",
            "Took 37.154669523239136 seconds to infer outputs in session.\n",
            "Took 0.27650022506713867 seconds to construct network.\n",
            "Took 36.394827127456665 seconds to infer outputs in session.\n",
            "Took 0.27520036697387695 seconds to construct network.\n",
            "Took 35.42962288856506 seconds to infer outputs in session.\n",
            "Took 0.2715017795562744 seconds to construct network.\n",
            "Took 36.19822335243225 seconds to infer outputs in session.\n",
            "Took 0.28264498710632324 seconds to construct network.\n",
            "Took 34.02726149559021 seconds to infer outputs in session.\n",
            "Took 0.2723276615142822 seconds to construct network.\n",
            "Took 34.39516592025757 seconds to infer outputs in session.\n",
            "Took 0.2811300754547119 seconds to construct network.\n",
            "Took 37.04998707771301 seconds to infer outputs in session.\n",
            "Took 0.27695202827453613 seconds to construct network.\n",
            "Took 37.03022503852844 seconds to infer outputs in session.\n",
            "Took 0.27394866943359375 seconds to construct network.\n",
            "Took 38.296794176101685 seconds to infer outputs in session.\n",
            "Took 0.2784600257873535 seconds to construct network.\n",
            "Took 36.69473958015442 seconds to infer outputs in session.\n",
            "Took 0.27145957946777344 seconds to construct network.\n",
            "Took 37.25218963623047 seconds to infer outputs in session.\n",
            "Took 0.2765052318572998 seconds to construct network.\n",
            "Took 32.64936900138855 seconds to infer outputs in session.\n",
            "Took 0.2791929244995117 seconds to construct network.\n",
            "Took 29.33012557029724 seconds to infer outputs in session.\n",
            "Took 0.27323150634765625 seconds to construct network.\n",
            "Took 42.04498481750488 seconds to infer outputs in session.\n",
            "Took 0.27860522270202637 seconds to construct network.\n",
            "Took 33.25718331336975 seconds to infer outputs in session.\n",
            "Took 0.28495311737060547 seconds to construct network.\n",
            "Took 38.16215515136719 seconds to infer outputs in session.\n",
            "Took 0.2919044494628906 seconds to construct network.\n",
            "Took 34.833855867385864 seconds to infer outputs in session.\n",
            "Took 0.27873873710632324 seconds to construct network.\n",
            "Took 39.3832049369812 seconds to infer outputs in session.\n",
            "Took 0.27466249465942383 seconds to construct network.\n",
            "Took 32.88106393814087 seconds to infer outputs in session.\n",
            "Took 0.2827591896057129 seconds to construct network.\n",
            "Took 39.472617626190186 seconds to infer outputs in session.\n",
            "Took 0.27961039543151855 seconds to construct network.\n",
            "Took 28.007530212402344 seconds to infer outputs in session.\n",
            "Took 0.28087925910949707 seconds to construct network.\n",
            "Took 34.841636419296265 seconds to infer outputs in session.\n",
            "Took 0.28156137466430664 seconds to construct network.\n",
            "Took 41.1649534702301 seconds to infer outputs in session.\n",
            "Took 0.27117371559143066 seconds to construct network.\n",
            "Took 36.11090087890625 seconds to infer outputs in session.\n",
            "*** BENCHMARK RESULTS FOR YOLOv3 ***\n",
            "earth_apollo17_3002_3000.jpg - (3000, 3002) - 16.16105952978134 s - 0 boxes detected.\n",
            "horse_284_177.jpeg - (284, 177) - 24.502548780441284 s - 1 boxes detected.\n",
            "woman_blonde_512_512.jpg - (512, 512) - 32.278970201015476 s - 2 boxes detected.\n",
            "Overal average inference speed: 24.31419283707937s.\n",
            "*** END ***\n"
          ],
          "name": "stdout"
        }
      ]
    },
    {
      "cell_type": "code",
      "metadata": {
        "id": "L38ryGYmeqBB",
        "colab_type": "code",
        "outputId": "6237f99f-1aef-4347-9ae4-4575c4bdbab6",
        "colab": {
          "base_uri": "https://localhost:8080/",
          "height": 900
        }
      },
      "source": [
        "plot_benchmark_results_and_write_to_csv_file(\n",
        "    model_name=\"yolov3_gpu_head_v1_on_gpu\",\n",
        "    results=yolov3_gpu_head_v1_on_gpu_results\n",
        ")"
      ],
      "execution_count": 0,
      "outputs": [
        {
          "output_type": "display_data",
          "data": {
            "image/png": "[encoded data removed]",
            "text/plain": [
              "<Figure size 864x1080 with 1 Axes>"
            ]
          },
          "metadata": {
            "tags": []
          }
        }
      ]
    },
    {
      "cell_type": "markdown",
      "metadata": {
        "id": "4H3iQvUyebBT",
        "colab_type": "text"
      },
      "source": [
        "# Benchmarks for YOLOv3 (with non-max suppression in numpy) on CPU"
      ]
    },
    {
      "cell_type": "code",
      "metadata": {
        "id": "FcPEJ_vgepEG",
        "colab_type": "code",
        "outputId": "ccbad1a4-4e18-4eb2-ad65-311371f556a6",
        "colab": {
          "base_uri": "https://localhost:8080/",
          "height": 1000
        }
      },
      "source": [
        "yolov3_gpu_head_v1_on_cpu_results = benchmark_detector(yolov3_object_detector_gpu_v1, 10)\n",
        "print_benchmark_results(yolov3_object_detector_gpu_v1, yolov3_gpu_head_v1_on_cpu_results[0])"
      ],
      "execution_count": 0,
      "outputs": [
        {
          "output_type": "stream",
          "text": [
            "Took 0.2795083522796631 seconds to construct network.\n",
            "Took 12.935075521469116 seconds to infer outputs in session.\n",
            "Starting to benchmark on image: earth_apollo17_3002_3000.jpg.\n",
            "Took 0.25943851470947266 seconds to construct network.\n",
            "Took 13.428674936294556 seconds to infer outputs in session.\n",
            "Took 0.24801301956176758 seconds to construct network.\n",
            "Took 12.4640474319458 seconds to infer outputs in session.\n",
            "Took 0.25767087936401367 seconds to construct network.\n",
            "Took 13.277205228805542 seconds to infer outputs in session.\n",
            "Took 0.2594106197357178 seconds to construct network.\n",
            "Took 13.244008541107178 seconds to infer outputs in session.\n",
            "Took 0.27483606338500977 seconds to construct network.\n",
            "Took 13.412510395050049 seconds to infer outputs in session.\n",
            "Took 0.27181434631347656 seconds to construct network.\n",
            "Took 13.341259717941284 seconds to infer outputs in session.\n",
            "Took 0.2562680244445801 seconds to construct network.\n",
            "Took 14.669529676437378 seconds to infer outputs in session.\n",
            "Took 0.2579691410064697 seconds to construct network.\n",
            "Took 13.863271951675415 seconds to infer outputs in session.\n",
            "Took 0.27189159393310547 seconds to construct network.\n",
            "Took 14.374393224716187 seconds to infer outputs in session.\n",
            "Took 0.25867366790771484 seconds to construct network.\n",
            "Took 12.427383661270142 seconds to infer outputs in session.\n",
            "Starting to benchmark on image: horse_284_177.jpeg.\n",
            "Took 0.26287412643432617 seconds to construct network.\n",
            "Took 14.385040998458862 seconds to infer outputs in session.\n",
            "Took 0.24866890907287598 seconds to construct network.\n",
            "Took 14.177181005477905 seconds to infer outputs in session.\n",
            "Took 0.24901604652404785 seconds to construct network.\n",
            "Took 14.020734548568726 seconds to infer outputs in session.\n",
            "Took 0.25479865074157715 seconds to construct network.\n",
            "Took 14.41856598854065 seconds to infer outputs in session.\n",
            "Took 0.2553083896636963 seconds to construct network.\n",
            "Took 15.265791177749634 seconds to infer outputs in session.\n",
            "Took 0.2607734203338623 seconds to construct network.\n",
            "Took 15.187651634216309 seconds to infer outputs in session.\n",
            "Took 0.252544641494751 seconds to construct network.\n",
            "Took 14.141069650650024 seconds to infer outputs in session.\n",
            "Took 0.26586365699768066 seconds to construct network.\n",
            "Took 14.799795866012573 seconds to infer outputs in session.\n",
            "Took 0.29935526847839355 seconds to construct network.\n",
            "Took 14.434408903121948 seconds to infer outputs in session.\n",
            "Took 0.2811429500579834 seconds to construct network.\n",
            "Took 15.1823570728302 seconds to infer outputs in session.\n",
            "Starting to benchmark on image: woman_blonde_512_512.jpg.\n",
            "Took 0.31537652015686035 seconds to construct network.\n",
            "Took 16.74577569961548 seconds to infer outputs in session.\n",
            "Took 0.26654934883117676 seconds to construct network.\n",
            "Took 14.711030721664429 seconds to infer outputs in session.\n",
            "Took 0.24843478202819824 seconds to construct network.\n",
            "Took 12.53690218925476 seconds to infer outputs in session.\n",
            "Took 0.24442839622497559 seconds to construct network.\n",
            "Took 12.999862432479858 seconds to infer outputs in session.\n",
            "Took 0.24060368537902832 seconds to construct network.\n",
            "Took 14.55607533454895 seconds to infer outputs in session.\n",
            "Took 0.26740002632141113 seconds to construct network.\n",
            "Took 12.815714836120605 seconds to infer outputs in session.\n",
            "Took 0.2526733875274658 seconds to construct network.\n",
            "Took 14.693671464920044 seconds to infer outputs in session.\n",
            "Took 0.2553117275238037 seconds to construct network.\n",
            "Took 13.604326009750366 seconds to infer outputs in session.\n",
            "Took 0.25118350982666016 seconds to construct network.\n",
            "Took 15.82974624633789 seconds to infer outputs in session.\n",
            "Took 0.26346802711486816 seconds to construct network.\n",
            "Took 12.845527648925781 seconds to infer outputs in session.\n",
            "*** BENCHMARK RESULTS FOR YOLOv3 ***\n",
            "earth_apollo17_3002_3000.jpg - (3000, 3002) - 13.905862140655518 s - 0 boxes detected.\n",
            "horse_284_177.jpeg - (284, 177) - 14.984797024726868 s - 1 boxes detected.\n",
            "woman_blonde_512_512.jpg - (512, 512) - 14.520787811279297 s - 2 boxes detected.\n",
            "Overal average inference speed: 14.470482325553895s.\n",
            "*** END ***\n"
          ],
          "name": "stdout"
        }
      ]
    },
    {
      "cell_type": "code",
      "metadata": {
        "id": "ozO2gxrkfFca",
        "colab_type": "code",
        "outputId": "79de16d1-d265-4770-b73e-50c4282355fe",
        "colab": {
          "base_uri": "https://localhost:8080/",
          "height": 900
        }
      },
      "source": [
        "plot_benchmark_results_and_write_to_csv_file(\n",
        "    model_name=\"yolov3_gpu_head_v1_on_cpu\",\n",
        "    results=yolov3_gpu_head_v1_on_cpu_results\n",
        ")"
      ],
      "execution_count": 0,
      "outputs": [
        {
          "output_type": "display_data",
          "data": {
            "image/png": "[encoded data removed]",
            "text/plain": [
              "<Figure size 864x1080 with 1 Axes>"
            ]
          },
          "metadata": {
            "tags": []
          }
        }
      ]
    },
    {
      "cell_type": "markdown",
      "metadata": {
        "id": "3VvDbh7IcVpy",
        "colab_type": "text"
      },
      "source": [
        "# Construct plots from CSV files containing benchmark results"
      ]
    },
    {
      "cell_type": "code",
      "metadata": {
        "id": "L0wtA3AEcxHt",
        "colab_type": "code",
        "colab": {
          "base_uri": "https://localhost:8080/",
          "height": 904
        },
        "outputId": "8af46280-81c5-48f6-de35-02af0ffc94f1"
      },
      "source": [
        "import os\n",
        "import csv\n",
        "import pandas as pd\n",
        "import seaborn as sns\n",
        "import matplotlib.pyplot as plt\n",
        "import numpy as np\n",
        "from collections import defaultdict\n",
        "\n",
        "PATH_TO_OUTPUT_CSV_FILES = f'{THESIS_RESOURCES_DIR}/inference-speed-benchmarks-results'\n",
        "OUTPUT_PATH_PLOT = f\"/content/drive/My Drive/object-detection-thesis/plots/inference_speed_comparison.png\"\n",
        "\n",
        "def collect_avg_inference_times_by_model(path_to_out_dir: str):\n",
        "  files_in_dir = os.listdir(path_to_out_dir)\n",
        "  COLUMNS = ['image', 'inference speed (s)', 'boxes detected', 'model name']\n",
        "\n",
        "  inference_times_by_model = defaultdict(list)\n",
        "\n",
        "  for file_in_dir in files_in_dir:\n",
        "    target_path = os.path.join(path_to_out_dir, file_in_dir)\n",
        "    data_for_plot = []\n",
        "    with open(target_path, 'r') as csv_file:\n",
        "      csv_reader = csv.DictReader(csv_file)\n",
        "\n",
        "      for row in csv_reader:\n",
        "        row_data = list(map(lambda col: row[col], COLUMNS))\n",
        "        data_for_plot.append(row_data)\n",
        "\n",
        "        model_name = row['model name'].replace(\"_\", \" \")\n",
        "        inference_speed = float(row['inference speed (s)'])\n",
        "\n",
        "        inference_times_by_model[model_name].append(inference_speed)\n",
        "\n",
        "  return inference_times_by_model\n",
        "\n",
        "def plot_avg_inference_times_by_model(inference_times_by_model: dict, output_path_plot: str):\n",
        "\n",
        "  def show_values_on_bars(axs):\n",
        "    def _show_on_single_plot(ax):        \n",
        "        for p in ax.patches:\n",
        "            _x = p.get_x() + p.get_width() / 2\n",
        "            _y = p.get_y() + p.get_height()\n",
        "            value = '{:.2f}'.format(p.get_height())\n",
        "            ax.text(_x, _y, value, ha=\"center\") \n",
        "\n",
        "    if isinstance(axs, np.ndarray):\n",
        "        for idx, ax in np.ndenumerate(axs):\n",
        "            _show_on_single_plot(ax)\n",
        "    else:\n",
        "        _show_on_single_plot(axs)\n",
        "\n",
        "  data_for_plot = []\n",
        "  for model_name, inference_times in inference_times_by_model.items():\n",
        "    is_on_gpu = \"on gpu\" in model_name\n",
        "    model_name_for_plot = model_name \\\n",
        "      .replace(\"on cpu\", \"\") \\\n",
        "      .replace(\"on gpu\", \"\") \\\n",
        "      .replace(\"gpu head\", \"implementation\") \\\n",
        "      .replace(\"results\", \"\")\n",
        "\n",
        "    model_name_for_plot = model_name_for_plot \\\n",
        "      .replace(\"faster rcnn\", \"Faster R-CNN\") \\\n",
        "      .replace(\"yolov3\", \"YOLOv3\")\n",
        "\n",
        "    data_for_plot.append([model_name_for_plot,  sum(inference_times) / len(inference_times), \"GPU\" if is_on_gpu else \"CPU\"])\n",
        "\n",
        "  sns.set(rc={ 'figure.figsize': (15, 15 )})\n",
        "  sns.set(font_scale=1.7)\n",
        "\n",
        "  fig, ax = plt.subplots()\n",
        "  dataframe_for_plot = pd.DataFrame(data_for_plot, columns=['model', 'inference speed (s)', \"device\"])\n",
        "  sns_plot = sns.barplot(x=\"model\", y=\"inference speed (s)\", hue=\"device\", data=dataframe_for_plot, ax=ax)\n",
        "  \n",
        "  show_values_on_bars(ax)\n",
        "\n",
        "  fig.savefig(output_path_plot)\n",
        "\n",
        "data_for_plot = collect_avg_inference_times_by_model(PATH_TO_OUTPUT_CSV_FILES)\n",
        "plot_avg_inference_times_by_model(data_for_plot, OUTPUT_PATH_PLOT)"
      ],
      "execution_count": 4,
      "outputs": [
        {
          "output_type": "display_data",
          "data": {
            "image/png": "[encoded data removed]",
            "text/plain": [
              "<Figure size 1080x1080 with 1 Axes>"
            ]
          },
          "metadata": {
            "tags": []
          }
        }
      ]
    },
    {
      "cell_type": "markdown",
      "metadata": {
        "id": "s5Ps-EdfjHo9",
        "colab_type": "text"
      },
      "source": [
        "# Debugging/experimenting\n"
      ]
    },
    {
      "cell_type": "code",
      "metadata": {
        "id": "H1TeZPuE-RrN",
        "colab_type": "code",
        "outputId": "742a0d6d-34fc-4dec-afff-5981754893c4",
        "colab": {
          "base_uri": "https://localhost:8080/",
          "height": 476
        }
      },
      "source": [
        "from tensorflow.python.client import device_lib\n",
        "\n",
        "device_lib.list_local_devices()"
      ],
      "execution_count": 0,
      "outputs": [
        {
          "output_type": "execute_result",
          "data": {
            "text/plain": [
              "[name: \"/device:CPU:0\"\n",
              " device_type: \"CPU\"\n",
              " memory_limit: 268435456\n",
              " locality {\n",
              " }\n",
              " incarnation: 3477824864663995218, name: \"/device:XLA_CPU:0\"\n",
              " device_type: \"XLA_CPU\"\n",
              " memory_limit: 17179869184\n",
              " locality {\n",
              " }\n",
              " incarnation: 16361855883947271179\n",
              " physical_device_desc: \"device: XLA_CPU device\", name: \"/device:XLA_GPU:0\"\n",
              " device_type: \"XLA_GPU\"\n",
              " memory_limit: 17179869184\n",
              " locality {\n",
              " }\n",
              " incarnation: 7810937643124130903\n",
              " physical_device_desc: \"device: XLA_GPU device\", name: \"/device:GPU:0\"\n",
              " device_type: \"GPU\"\n",
              " memory_limit: 11330115994\n",
              " locality {\n",
              "   bus_id: 1\n",
              "   links {\n",
              "   }\n",
              " }\n",
              " incarnation: 14003391551454595357\n",
              " physical_device_desc: \"device: 0, name: Tesla K80, pci bus id: 0000:00:04.0, compute capability: 3.7\"]"
            ]
          },
          "metadata": {
            "tags": []
          },
          "execution_count": 13
        }
      ]
    },
    {
      "cell_type": "code",
      "metadata": {
        "id": "PF1Umx6N5_wg",
        "colab_type": "code",
        "colab": {
          "base_uri": "https://localhost:8080/",
          "height": 955
        },
        "outputId": "ad48f818-3483-44ce-d2e7-b3b7d17ddee8"
      },
      "source": [
        "!cat /proc/cpuinfo"
      ],
      "execution_count": 46,
      "outputs": [
        {
          "output_type": "stream",
          "text": [
            "processor\t: 0\n",
            "vendor_id\t: GenuineIntel\n",
            "cpu family\t: 6\n",
            "model\t\t: 79\n",
            "model name\t: Intel(R) Xeon(R) CPU @ 2.20GHz\n",
            "stepping\t: 0\n",
            "microcode\t: 0x1\n",
            "cpu MHz\t\t: 2199.998\n",
            "cache size\t: 56320 KB\n",
            "physical id\t: 0\n",
            "siblings\t: 2\n",
            "core id\t\t: 0\n",
            "cpu cores\t: 1\n",
            "apicid\t\t: 0\n",
            "initial apicid\t: 0\n",
            "fpu\t\t: yes\n",
            "fpu_exception\t: yes\n",
            "cpuid level\t: 13\n",
            "wp\t\t: yes\n",
            "flags\t\t: fpu vme de pse tsc msr pae mce cx8 apic sep mtrr pge mca cmov pat pse36 clflush mmx fxsr sse sse2 ss ht syscall nx pdpe1gb rdtscp lm constant_tsc rep_good nopl xtopology nonstop_tsc cpuid tsc_known_freq pni pclmulqdq ssse3 fma cx16 pcid sse4_1 sse4_2 x2apic movbe popcnt aes xsave avx f16c rdrand hypervisor lahf_lm abm 3dnowprefetch invpcid_single ssbd ibrs ibpb stibp fsgsbase tsc_adjust bmi1 hle avx2 smep bmi2 erms invpcid rtm rdseed adx smap xsaveopt arat md_clear arch_capabilities\n",
            "bugs\t\t: cpu_meltdown spectre_v1 spectre_v2 spec_store_bypass l1tf mds swapgs\n",
            "bogomips\t: 4399.99\n",
            "clflush size\t: 64\n",
            "cache_alignment\t: 64\n",
            "address sizes\t: 46 bits physical, 48 bits virtual\n",
            "power management:\n",
            "\n",
            "processor\t: 1\n",
            "vendor_id\t: GenuineIntel\n",
            "cpu family\t: 6\n",
            "model\t\t: 79\n",
            "model name\t: Intel(R) Xeon(R) CPU @ 2.20GHz\n",
            "stepping\t: 0\n",
            "microcode\t: 0x1\n",
            "cpu MHz\t\t: 2199.998\n",
            "cache size\t: 56320 KB\n",
            "physical id\t: 0\n",
            "siblings\t: 2\n",
            "core id\t\t: 0\n",
            "cpu cores\t: 1\n",
            "apicid\t\t: 1\n",
            "initial apicid\t: 1\n",
            "fpu\t\t: yes\n",
            "fpu_exception\t: yes\n",
            "cpuid level\t: 13\n",
            "wp\t\t: yes\n",
            "flags\t\t: fpu vme de pse tsc msr pae mce cx8 apic sep mtrr pge mca cmov pat pse36 clflush mmx fxsr sse sse2 ss ht syscall nx pdpe1gb rdtscp lm constant_tsc rep_good nopl xtopology nonstop_tsc cpuid tsc_known_freq pni pclmulqdq ssse3 fma cx16 pcid sse4_1 sse4_2 x2apic movbe popcnt aes xsave avx f16c rdrand hypervisor lahf_lm abm 3dnowprefetch invpcid_single ssbd ibrs ibpb stibp fsgsbase tsc_adjust bmi1 hle avx2 smep bmi2 erms invpcid rtm rdseed adx smap xsaveopt arat md_clear arch_capabilities\n",
            "bugs\t\t: cpu_meltdown spectre_v1 spectre_v2 spec_store_bypass l1tf mds swapgs\n",
            "bogomips\t: 4399.99\n",
            "clflush size\t: 64\n",
            "cache_alignment\t: 64\n",
            "address sizes\t: 46 bits physical, 48 bits virtual\n",
            "power management:\n",
            "\n"
          ],
          "name": "stdout"
        }
      ]
    }
  ]
}