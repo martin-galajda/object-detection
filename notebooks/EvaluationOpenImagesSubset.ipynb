{
  "nbformat": 4,
  "nbformat_minor": 0,
  "metadata": {
    "colab": {
      "name": "EvaluationOpenImagesSubset.ipynb",
      "provenance": [],
      "toc_visible": true,
      "include_colab_link": true
    },
    "kernelspec": {
      "name": "python3",
      "display_name": "Python 3"
    },
    "accelerator": "GPU"
  },
  "cells": [
    {
      "cell_type": "markdown",
      "metadata": {
        "id": "view-in-github",
        "colab_type": "text"
      },
      "source": [
        "<a href=\"https://colab.research.google.com/github/martin-galajda/object-detection/blob/master/notebooks/EvaluationOpenImagesSubset.ipynb\" target=\"_parent\"><img src=\"https://colab.research.google.com/assets/colab-badge.svg\" alt=\"Open In Colab\"/></a>"
      ]
    },
    {
      "cell_type": "code",
      "metadata": {
        "id": "_-thk1PwzKg9",
        "colab_type": "code",
        "outputId": "90078f03-a96c-420f-e7cd-39db26f80e0c",
        "colab": {
          "base_uri": "https://localhost:8080/",
          "height": 139
        }
      },
      "source": [
        "from google.colab import drive\n",
        "drive.mount('/content/drive')\n",
        "\n",
        "THESIS_RESOURCES_DIR = \"/content/drive/My Drive/object-detection-thesis\"\n",
        "\n",
        "%cd '/content/drive/My Drive/object-detection-thesis/object-detection'"
      ],
      "execution_count": 0,
      "outputs": [
        {
          "output_type": "stream",
          "text": [
            "Go to this URL in a browser: https://accounts.google.com/o/oauth2/auth?client_id=947318989803-6bn6qk8qdgf4n4g3pfee6491hc0brc4i.apps.googleusercontent.com&redirect_uri=urn%3Aietf%3Awg%3Aoauth%3A2.0%3Aoob&scope=email%20https%3A%2F%2Fwww.googleapis.com%2Fauth%2Fdocs.test%20https%3A%2F%2Fwww.googleapis.com%2Fauth%2Fdrive%20https%3A%2F%2Fwww.googleapis.com%2Fauth%2Fdrive.photos.readonly%20https%3A%2F%2Fwww.googleapis.com%2Fauth%2Fpeopleapi.readonly&response_type=code\n",
            "\n",
            "Enter your authorization code:\n",
            "··········\n",
            "Mounted at /content/drive\n",
            "/content/drive/My Drive/object-detection-thesis/object-detection\n"
          ],
          "name": "stdout"
        }
      ]
    },
    {
      "cell_type": "code",
      "metadata": {
        "id": "pLk-k_HMzR9w",
        "colab_type": "code",
        "outputId": "973af840-71c9-4d40-9cb5-96514a3ff567",
        "colab": {
          "base_uri": "https://localhost:8080/",
          "height": 136
        }
      },
      "source": [
        "%cd '/content/drive/My Drive/object-detection-thesis'\n",
        "! git clone https://github.com/martinGalajdaSchool/object-detection.git\n",
        "! pwd\n",
        "%cd '/content/drive/My Drive/object-detection-thesis/object-detection'\n",
        "! git pull origin master"
      ],
      "execution_count": 0,
      "outputs": [
        {
          "output_type": "stream",
          "text": [
            "/content/drive/My Drive/object-detection-thesis\n",
            "fatal: destination path 'object-detection' already exists and is not an empty directory.\n",
            "/content/drive/My Drive/object-detection-thesis\n",
            "/content/drive/My Drive/object-detection-thesis/object-detection\n",
            "From https://github.com/martinGalajdaSchool/object-detection\n",
            " * branch            master     -> FETCH_HEAD\n",
            "Already up to date.\n"
          ],
          "name": "stdout"
        }
      ]
    },
    {
      "cell_type": "markdown",
      "metadata": {
        "id": "RQnBb_rfya60",
        "colab_type": "text"
      },
      "source": [
        "# Define utility functions"
      ]
    },
    {
      "cell_type": "code",
      "metadata": {
        "id": "EzF1QFE9mJzB",
        "colab_type": "code",
        "colab": {}
      },
      "source": [
        "from evaluation.average_precision.results import EvaluationResults\n",
        "import seaborn as sns\n",
        "import matplotlib.pyplot as plt\n",
        "import pandas as pd\n",
        "from typing import Dict\n",
        "import numpy as np\n",
        "\n",
        "BASE_OUTPUT_PATH_FOR_PLOTS = f'{THESIS_RESOURCES_DIR}/evaluation/plots'\n",
        "BASE_OUTPUT_PATH_AP_RESULTS = f'{THESIS_RESOURCES_DIR}/mAP-benchmark-results'\n",
        "PATH_TO_AP_RESULTS_CSV_FILES = f'{BASE_OUTPUT_PATH_AP_RESULTS}/csv_files'\n",
        "\n",
        "def concatenate_files_in_dir(dir_path: str):\n",
        "  files_in_dir = os.listdir(dir_path)\n",
        "  files_in_dir = [file_in_dir for file_in_dir in files_in_dir if file_in_dir.contains('.csv')]\n",
        "\n",
        "  \n",
        "def show_values_on_bars(axs):\n",
        "  def _show_on_single_plot(ax):        \n",
        "      for p in ax.patches:\n",
        "          _x = p.get_x() + p.get_width() / 2\n",
        "          _y = p.get_y() + p.get_height()\n",
        "          value = '{:.2f}'.format(p.get_height())\n",
        "          ax.text(_x, _y, value, ha=\"center\") \n",
        "\n",
        "  if isinstance(axs, np.ndarray):\n",
        "      for idx, ax in np.ndenumerate(axs):\n",
        "          _show_on_single_plot(ax)\n",
        "  else:\n",
        "      _show_on_single_plot(axs)\n",
        "\n",
        "\n",
        "def create_and_save_AP_plot(results: EvaluationResults, model_name: str, num_of_important_AP_to_visualize: int = 30):\n",
        "  \"\"\"\n",
        "  Creates plot for comparing AP metrics for different classes and saves it on GDrive.\n",
        "\n",
        "  Args:\n",
        "    - results: evaluation results containing AP results for each class\n",
        "    - model_name: name of the model, used for generating plot title and output path for the saved plot\n",
        "    - num_of_important_AP_to_visualize: optional number for top and bottom APs to visualize, defaults to 30\n",
        "\n",
        "  \"\"\"\n",
        "  sns.set(rc={ 'figure.figsize': (25, 25 )})\n",
        "  sns.set(font_scale=1.7)\n",
        "\n",
        "  data_for_plot = []\n",
        "  for class_label, AP_value in results.AP_per_class.items():\n",
        "    data_for_plot.append([class_label, AP_value * 100])\n",
        "\n",
        "  cols = [\"class\", \"AP\"]\n",
        "\n",
        "  # sort by AP, in decreasing fashion\n",
        "  data_for_plot = list(sorted(data_for_plot, key=lambda elem: elem[1],  reverse=True))\n",
        "  data_for_plot_top_ap = data_for_plot[:num_of_important_AP_to_visualize]\n",
        "  dataframe_for_plot_top_ap = pd.DataFrame(data_for_plot_top_ap, columns=cols)\n",
        "\n",
        "  fig_top_ap, ax_top_ap = plt.subplots()\n",
        "  sns_top = sns.barplot(x=cols[0], y=cols[1], data=dataframe_for_plot_top_ap, ax=ax_top_ap)\n",
        "  plt.xticks(rotation=90)\n",
        "  sns_top.set(ylim=(0, 100), title=\"\")\n",
        "  show_values_on_bars(ax_top_ap)\n",
        "\n",
        "\n",
        "  output_path_grap_top_ap = f'{BASE_OUTPUT_PATH_FOR_PLOTS}/{model_name}_top_{num_of_important_AP_to_visualize}_AP_plot.png'\n",
        "  fig_top_ap.savefig(output_path_grap_top_ap)\n",
        "\n",
        "  data_for_plot_bottom_ap = data_for_plot[-num_of_important_AP_to_visualize:]\n",
        "  dataframe_for_plot_bottom_ap = pd.DataFrame(data_for_plot_bottom_ap, columns=cols)\n",
        "\n",
        "  fig_bottom_ap, ax_bottom_ap = plt.subplots()\n",
        "  sns_botom = sns.barplot(x=cols[0], y=cols[1], data=dataframe_for_plot_bottom_ap, ax=ax_bottom_ap)\n",
        "  sns_botom.set(ylim=(0, 100), title=\"\")\n",
        "  plt.xticks(rotation=90)\n",
        "  show_values_on_bars(ax_bottom_ap)\n",
        "  plt.tight_layout()\n",
        "\n",
        "  output_path_grap_bottom = f'{BASE_OUTPUT_PATH_FOR_PLOTS}/{model_name}_bottom_{num_of_important_AP_to_visualize}_AP_plot.png'\n",
        "  fig_bottom_ap.savefig(output_path_grap_bottom)\n",
        "\n",
        "def create_and_save_mAP_plot(results_for_models: Dict[str, EvaluationResults], dataset: str):\n",
        "  \"\"\"\n",
        "\n",
        "  Creates plot for comparing mAP metrics for different models and saves it on GDrive.\n",
        "\n",
        "  Args:\n",
        "    - results_for_models: dictionary mapping from model name to evaluation results\n",
        "\n",
        "  \"\"\"\n",
        "  sns.set(rc={ 'figure.figsize': (10, 10 )})\n",
        "  sns.set(font_scale=1.7)\n",
        "\n",
        "  data_for_plot = []\n",
        "  for model_name, evaluation_results in results_for_models.items():\n",
        "    data_for_plot.append([model_name, evaluation_results.mAP * 100])\n",
        "\n",
        "  cols = [\"model\", \"mAP\"]\n",
        "  dataframe_for_plot = pd.DataFrame(data_for_plot, columns=cols)\n",
        "\n",
        "  fig, ax = plt.subplots()\n",
        "  sns_plot = sns.barplot(x=cols[0], y=cols[1], data=dataframe_for_plot, ax=ax)\n",
        "  sns_plot.set(ylim=(0, 100), title=f'mAP comparison for models')\n",
        "  # plt.xticks(rotation=90)\n",
        "  show_values_on_bars(ax)\n",
        "\n",
        "  output_path_plot = f'{BASE_OUTPUT_PATH_FOR_PLOTS}/mAP_comparison_{dataset}.png'\n",
        "  fig.savefig(output_path_plot)\n",
        "\n",
        "def save_AP_results(results_for_models: Dict[str, EvaluationResults], iou_threshold: str):\n",
        "  \"\"\"\n",
        "\n",
        "  Saves AP results after computing it with certain threshold.\n",
        "\n",
        "  Args:\n",
        "    - results_for_models: dictionary mapping from model name to evaluation results\n",
        "    - iou_threshold: threshold for considering detected box as true\n",
        "\n",
        "  \"\"\"\n",
        "\n",
        "  path_to_current_csv_file = f'{PATH_TO_AP_RESULTS_CSV_FILES}/ap_results@{iou_threshold}.csv'\n",
        "\n",
        "  data_for_plot = []\n",
        "  for model_name, evaluation_results in results_for_models.items():\n",
        "    data_for_plot.append([model_name, evaluation_results.mAP * 100, iou_threshold])\n",
        "\n",
        "  cols = [\"model\", \"mAP\", \"iou_threshold\"]\n",
        "  dataframe_for_plot = pd.DataFrame(data_for_plot, columns=cols)\n",
        "\n",
        "  dataframe_for_plot.to_csv(path_to_current_csv_file)"
      ],
      "execution_count": 0,
      "outputs": []
    },
    {
      "cell_type": "markdown",
      "metadata": {
        "id": "ZUOXw89iyd62",
        "colab_type": "text"
      },
      "source": [
        "# Generate detections for YOLOv3"
      ]
    },
    {
      "cell_type": "code",
      "metadata": {
        "id": "XrTyk9ICzUUe",
        "colab_type": "code",
        "outputId": "33322f4f-fbe1-4130-eb10-6f37f814f6c9",
        "colab": {
          "base_uri": "https://localhost:8080/",
          "height": 598
        }
      },
      "source": [
        "from evaluation.run_detections import ObjectDetectorOptions, generate_detections_files\n",
        "\n",
        "INPUT_PATH_IMAGES = f'{THESIS_RESOURCES_DIR}/openimages-test-images'\n",
        "OUTPUT_PATH_DETECTIONS = f'{THESIS_RESOURCES_DIR}/mAP-benchmark-results/detected_openimages/'\n",
        "\n",
        "PATH_TO_YOLOV3_RESOURCES = \"/content/drive/My Drive/THESIS_RESOURCES/yolov3\"\n",
        "PATH_TO_YOLOV3_MODEL = f'{PATH_TO_YOLOV3_RESOURCES}/model.h5'\n",
        "PATH_TO_YOLOV3_CLASSES = f'{PATH_TO_YOLOV3_RESOURCES}/openimages.names'\n",
        "\n",
        "generate_detections_files(\n",
        "    INPUT_PATH_IMAGES,\n",
        "    OUTPUT_PATH_DETECTIONS,\n",
        "    ObjectDetectorOptions.YOLOV3,\n",
        "    {\n",
        "      'verbose': False,\n",
        "      'path_to_model': PATH_TO_YOLOV3_MODEL,\n",
        "      'path_to_classes': PATH_TO_YOLOV3_CLASSES,\n",
        "      'log_device_placement': False,\n",
        "      'detection_threshold': 0.0005\n",
        "    }\n",
        ")"
      ],
      "execution_count": 0,
      "outputs": [
        {
          "output_type": "stream",
          "text": [
            "Using TensorFlow backend.\n"
          ],
          "name": "stderr"
        },
        {
          "output_type": "stream",
          "text": [
            "WARNING:tensorflow:From /content/drive/My Drive/object-detection-thesis/object-detection/models/faster_rcnn_inception_resnet_v2_oid_v4/inference.py:63: The name tf.Session is deprecated. Please use tf.compat.v1.Session instead.\n",
            "\n",
            "WARNING:tensorflow:From /content/drive/My Drive/object-detection-thesis/object-detection/models/yolov3/object_detector.py:43: The name tf.ConfigProto is deprecated. Please use tf.compat.v1.ConfigProto instead.\n",
            "\n",
            "WARNING:tensorflow:From /usr/local/lib/python3.6/dist-packages/keras/backend/tensorflow_backend.py:190: The name tf.get_default_session is deprecated. Please use tf.compat.v1.get_default_session instead.\n",
            "\n",
            "WARNING:tensorflow:From /usr/local/lib/python3.6/dist-packages/keras/backend/tensorflow_backend.py:207: The name tf.global_variables is deprecated. Please use tf.compat.v1.global_variables instead.\n",
            "\n",
            "WARNING:tensorflow:From /usr/local/lib/python3.6/dist-packages/keras/backend/tensorflow_backend.py:541: The name tf.placeholder is deprecated. Please use tf.compat.v1.placeholder instead.\n",
            "\n",
            "WARNING:tensorflow:From /usr/local/lib/python3.6/dist-packages/keras/backend/tensorflow_backend.py:4432: The name tf.random_uniform is deprecated. Please use tf.random.uniform instead.\n",
            "\n",
            "WARNING:tensorflow:From /usr/local/lib/python3.6/dist-packages/keras/backend/tensorflow_backend.py:66: The name tf.get_default_graph is deprecated. Please use tf.compat.v1.get_default_graph instead.\n",
            "\n",
            "WARNING:tensorflow:From /usr/local/lib/python3.6/dist-packages/keras/backend/tensorflow_backend.py:216: The name tf.is_variable_initialized is deprecated. Please use tf.compat.v1.is_variable_initialized instead.\n",
            "\n",
            "WARNING:tensorflow:From /usr/local/lib/python3.6/dist-packages/keras/backend/tensorflow_backend.py:223: The name tf.variables_initializer is deprecated. Please use tf.compat.v1.variables_initializer instead.\n",
            "\n",
            "WARNING:tensorflow:From /usr/local/lib/python3.6/dist-packages/keras/backend/tensorflow_backend.py:2041: The name tf.nn.fused_batch_norm is deprecated. Please use tf.compat.v1.nn.fused_batch_norm instead.\n",
            "\n",
            "WARNING:tensorflow:From /usr/local/lib/python3.6/dist-packages/keras/backend/tensorflow_backend.py:148: The name tf.placeholder_with_default is deprecated. Please use tf.compat.v1.placeholder_with_default instead.\n",
            "\n",
            "WARNING:tensorflow:From /usr/local/lib/python3.6/dist-packages/keras/backend/tensorflow_backend.py:2241: The name tf.image.resize_bilinear is deprecated. Please use tf.compat.v1.image.resize_bilinear instead.\n",
            "\n"
          ],
          "name": "stdout"
        },
        {
          "output_type": "stream",
          "text": [
            "/usr/local/lib/python3.6/dist-packages/keras/engine/saving.py:310: UserWarning: No training configuration found in save file: the model was *not* compiled. Compile it manually.\n",
            "  warnings.warn('No training configuration found in save file: '\n"
          ],
          "name": "stderr"
        },
        {
          "output_type": "stream",
          "text": [
            "WARNING:tensorflow:From /usr/local/lib/python3.6/dist-packages/tensorflow_core/python/ops/array_ops.py:1475: where (from tensorflow.python.ops.array_ops) is deprecated and will be removed in a future version.\n",
            "Instructions for updating:\n",
            "Use tf.where in 2.0, which has the same broadcast rule as np.where\n",
            "Took 30.451497316360474 seconds to construct network.\n",
            "Ignored files(0): \n",
            "[]\n"
          ],
          "name": "stdout"
        }
      ]
    },
    {
      "cell_type": "markdown",
      "metadata": {
        "id": "4ratG_i1ymMB",
        "colab_type": "text"
      },
      "source": [
        "# Generate detections for Faster R-CNNN"
      ]
    },
    {
      "cell_type": "code",
      "metadata": {
        "id": "O2VNCRkU9zRq",
        "colab_type": "code",
        "outputId": "532faaca-3c14-4c91-a40f-e85cc6cf79d9",
        "colab": {
          "base_uri": "https://localhost:8080/",
          "height": 258
        }
      },
      "source": [
        "from evaluation.run_detections import ObjectDetectorOptions, generate_detections_files\n",
        "\n",
        "INPUT_PATH_IMAGES = f'{THESIS_RESOURCES_DIR}/openimages-test-images'\n",
        "OUTPUT_PATH_DETECTIONS = f'{THESIS_RESOURCES_DIR}/mAP-benchmark-results/detected_openimages/'\n",
        "\n",
        "PATH_TO_FASTER_RCNN_RESOURCES = \"/content/drive/My Drive/THESIS_RESOURCES/faster_rcnn\"\n",
        "PATH_TO_FASTER_RCNN_INFERENCE_GRAPH = f'{PATH_TO_FASTER_RCNN_RESOURCES}/for_map/frozen_inference_graph.pb'\n",
        "PATH_TO_FASTER_RCNN_CLASSES = f'{PATH_TO_FASTER_RCNN_RESOURCES}/oid_v4_label_map.pbtxt'\n",
        "\n",
        "generate_detections_files(\n",
        "    INPUT_PATH_IMAGES,\n",
        "    OUTPUT_PATH_DETECTIONS,\n",
        "    ObjectDetectorOptions.FASTER_RCNN,\n",
        "    {\n",
        "      'path_to_frozen_graph': PATH_TO_FASTER_RCNN_INFERENCE_GRAPH,\n",
        "      'path_to_classes': PATH_TO_FASTER_RCNN_CLASSES,\n",
        "      'use_gpu': True,\n",
        "      'log_device_placement': False,\n",
        "    }\n",
        ")"
      ],
      "execution_count": 0,
      "outputs": [
        {
          "output_type": "stream",
          "text": [
            "Using TensorFlow backend.\n"
          ],
          "name": "stderr"
        },
        {
          "output_type": "stream",
          "text": [
            "WARNING:tensorflow:From /content/drive/My Drive/object-detection-thesis/object-detection/models/faster_rcnn_inception_resnet_v2_oid_v4/inference.py:63: The name tf.Session is deprecated. Please use tf.compat.v1.Session instead.\n",
            "\n",
            "WARNING:tensorflow:From /content/drive/My Drive/object-detection-thesis/object-detection/models/faster_rcnn_inception_resnet_v2_oid_v4/inference.py:45: The name tf.GraphDef is deprecated. Please use tf.compat.v1.GraphDef instead.\n",
            "\n",
            "WARNING:tensorflow:From /content/drive/My Drive/object-detection-thesis/object-detection/models/faster_rcnn_inception_resnet_v2_oid_v4/inference.py:46: The name tf.gfile.GFile is deprecated. Please use tf.io.gfile.GFile instead.\n",
            "\n",
            "WARNING:tensorflow:From /content/drive/My Drive/object-detection-thesis/object-detection/models/faster_rcnn_inception_resnet_v2_oid_v4/inference.py:27: The name tf.ConfigProto is deprecated. Please use tf.compat.v1.ConfigProto instead.\n",
            "\n",
            "Ignored files(0): \n",
            "[]\n",
            "WARNING:tensorflow:From /content/drive/My Drive/object-detection-thesis/object-detection/models/faster_rcnn_inception_resnet_v2_oid_v4/inference.py:67: The name tf.get_default_graph is deprecated. Please use tf.compat.v1.get_default_graph instead.\n",
            "\n"
          ],
          "name": "stdout"
        }
      ]
    },
    {
      "cell_type": "markdown",
      "metadata": {
        "id": "MX1puJZBd3zJ",
        "colab_type": "text"
      },
      "source": [
        "# Computing results for YOLOv3 "
      ]
    },
    {
      "cell_type": "code",
      "metadata": {
        "id": "CZ7eHJtCa1_-",
        "colab_type": "code",
        "outputId": "5e3115c6-fdd5-4a7a-ad49-5b38822d8367",
        "colab": {
          "base_uri": "https://localhost:8080/",
          "height": 34
        }
      },
      "source": [
        "GT_BOXES_DIR_PATH = f'{THESIS_RESOURCES_DIR}/evaluation/ground_truth_openimages'\n",
        "DETECTED_BOXES_DIR_PATH = f'{THESIS_RESOURCES_DIR}/mAP-benchmark-results/detected_openimages/openimages-test-images/YOLOv3'\n",
        "\n",
        "from evaluation.average_precision.evaluator import Evaluator\n",
        "from evaluation.average_precision.bounding_box_loader import BoundingBoxLoader\n",
        "\n",
        "ground_truth_bounding_boxes, detected_bounding_boxes = BoundingBoxLoader.loadBoxesFromFiles(\n",
        "    path_to_detected_files_dir=DETECTED_BOXES_DIR_PATH,\n",
        "    path_to_gt_files_dir=GT_BOXES_DIR_PATH\n",
        ")\n",
        "\n",
        "evaluator = Evaluator(\n",
        "    detected_bounding_boxes=detected_bounding_boxes,\n",
        "    ground_truth_bounding_boxes=ground_truth_bounding_boxes,\n",
        "    drop_empty_gt_files=False\n",
        ")\n",
        "\n",
        "results_yolov3 = evaluator.evaluate()\n",
        "\n",
        "results_yolov3"
      ],
      "execution_count": 0,
      "outputs": [
        {
          "output_type": "execute_result",
          "data": {
            "text/plain": [
              "<evaluation.average_precision.results.EvaluationResults at 0x7fe58ccef080>"
            ]
          },
          "metadata": {
            "tags": []
          },
          "execution_count": 3
        }
      ]
    },
    {
      "cell_type": "code",
      "metadata": {
        "id": "SZ0o_tlDVF12",
        "colab_type": "code",
        "outputId": "bd0a1788-d515-400c-d086-746859096ec6",
        "colab": {
          "base_uri": "https://localhost:8080/",
          "height": 34
        }
      },
      "source": [
        "results_yolov3.mAP"
      ],
      "execution_count": 0,
      "outputs": [
        {
          "output_type": "execute_result",
          "data": {
            "text/plain": [
              "0.2899205591336438"
            ]
          },
          "metadata": {
            "tags": []
          },
          "execution_count": 10
        }
      ]
    },
    {
      "cell_type": "markdown",
      "metadata": {
        "id": "pjBuJSjkyt09",
        "colab_type": "text"
      },
      "source": [
        "# Computing results for Faster R-CNN"
      ]
    },
    {
      "cell_type": "code",
      "metadata": {
        "id": "g2p55geDbiRb",
        "colab_type": "code",
        "outputId": "bc416a5a-c406-44cb-8c14-a0d9c7a908f6",
        "colab": {
          "base_uri": "https://localhost:8080/",
          "height": 34
        }
      },
      "source": [
        "GT_BOXES_DIR_PATH = f'{THESIS_RESOURCES_DIR}/evaluation/ground_truth_openimages'\n",
        "DETECTED_BOXES_DIR_PATH = f'{THESIS_RESOURCES_DIR}/mAP-benchmark-results/detected_openimages/openimages-test-images/FasterRCNN'\n",
        "\n",
        "from evaluation.average_precision.evaluator import Evaluator\n",
        "from evaluation.average_precision.bounding_box_loader import BoundingBoxLoader\n",
        "\n",
        "ground_truth_bounding_boxes, detected_bounding_boxes = BoundingBoxLoader.loadBoxesFromFiles(\n",
        "    path_to_detected_files_dir=DETECTED_BOXES_DIR_PATH,\n",
        "    path_to_gt_files_dir=GT_BOXES_DIR_PATH\n",
        ")\n",
        "\n",
        "evaluator = Evaluator(\n",
        "    detected_bounding_boxes=detected_bounding_boxes,\n",
        "    ground_truth_bounding_boxes=ground_truth_bounding_boxes,\n",
        "    drop_empty_gt_files=False\n",
        ")\n",
        "\n",
        "results_faster_rcnn = evaluator.evaluate()\n",
        "\n",
        "results_faster_rcnn"
      ],
      "execution_count": 0,
      "outputs": [
        {
          "output_type": "execute_result",
          "data": {
            "text/plain": [
              "<evaluation.average_precision.results.EvaluationResults at 0x7fe59b1c5ba8>"
            ]
          },
          "metadata": {
            "tags": []
          },
          "execution_count": 4
        }
      ]
    },
    {
      "cell_type": "code",
      "metadata": {
        "id": "z_N_s6bUiafy",
        "colab_type": "code",
        "outputId": "a80c96a5-3cbe-4e0e-b840-59c3d64affef",
        "colab": {
          "base_uri": "https://localhost:8080/",
          "height": 34
        }
      },
      "source": [
        "results_faster_rcnn.mAP"
      ],
      "execution_count": 0,
      "outputs": [
        {
          "output_type": "execute_result",
          "data": {
            "text/plain": [
              "0.5358144088165393"
            ]
          },
          "metadata": {
            "tags": []
          },
          "execution_count": 8
        }
      ]
    },
    {
      "cell_type": "markdown",
      "metadata": {
        "id": "2Mfq2C5Byy3f",
        "colab_type": "text"
      },
      "source": [
        "# Create mAP plots"
      ]
    },
    {
      "cell_type": "code",
      "metadata": {
        "id": "7QmwrClumG3B",
        "colab_type": "code",
        "outputId": "b4f67a18-062e-4962-86ba-2861e8f805a2",
        "colab": {
          "base_uri": "https://localhost:8080/",
          "height": 647
        }
      },
      "source": [
        "create_and_save_mAP_plot({\n",
        "    'YOLOv3': results_yolov3,\n",
        "    'Faster R-CNN': results_faster_rcnn\n",
        "}, 'openimages')"
      ],
      "execution_count": 0,
      "outputs": [
        {
          "output_type": "display_data",
          "data": {
            "image/png": "[encoded data removed]",
            "text/plain": [
              "<Figure size 720x720 with 1 Axes>"
            ]
          },
          "metadata": {
            "tags": []
          }
        }
      ]
    }
  ]
}